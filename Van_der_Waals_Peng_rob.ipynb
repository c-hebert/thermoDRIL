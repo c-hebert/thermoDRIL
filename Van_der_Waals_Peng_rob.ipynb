{
 "cells": [
  {
   "cell_type": "markdown",
   "metadata": {},
   "source": [
    "# Equation d'état de Van der Waals\n",
    "\n",
    "L'équation d'état de Van der Waals est donnée par :\n",
    "\n",
    "$$(p+a\\frac{n^2}{V^2})(V-bn)=nRT$$\n",
    "\n",
    "$a$ et $b$ sont des paramètres du gaz. \n",
    "\n",
    "Au point critique, le gaz est à $T_c$ et $p_c$, et une mole occupe le volume critique molaire $V_c$\n",
    "\n",
    "$$V_c=3b$$\n",
    "\n",
    "$$p_c=\\frac{a}{27b^2}$$\n",
    "\n",
    "$$T_c=\\frac{8a}{27 R b}$$\n",
    "\n",
    "Pour une mole de fluide, l'équation d'état devient:\n",
    "$$p=\\frac{RT}{V-b}-\\frac{a}{V^2}$$\n",
    "\n",
    "En coordonnées normalisées aux valeurs critiques, $p^*=p/p_c$; $T^*=T/T_c$ et $V^*=V/V_c$ et pour une mole\n",
    "\n",
    "$$p^*=\\frac{8T^*}{3V^*-1}-\\frac{3}{V^{*2}}$$"
   ]
  },
  {
   "cell_type": "code",
   "execution_count": null,
   "metadata": {},
   "outputs": [],
   "source": [
    "from ipywidgets import interact\n",
    "import numpy as np\n",
    "import pandas as pd\n",
    "import csv\n",
    "from IPython.display import Image\n",
    "\n",
    "\n",
    "import bokeh\n",
    "from bokeh.io import push_notebook, show, output_notebook\n",
    "from bokeh.plotting import figure\n",
    "from bokeh.models.glyphs import Patch\n",
    "output_notebook()\n",
    "\n"
   ]
  },
  {
   "cell_type": "code",
   "execution_count": null,
   "metadata": {},
   "outputs": [],
   "source": [
    "#Constante des gaz parfaite\n",
    "R=8.314\n",
    "\n",
    "# paramètres a et b pour certains gaz\n",
    "# gaz=(a,b) a en l^2.bar.mol^(-2) et b en l.mol^(-1)\n",
    "\n",
    "co2=(3.64,0.04267)\n",
    "sf6=(7.857,0.08786)\n",
    "h2o=(5.537,0.03049)\n",
    "\n",
    "\n",
    "# valcrit(gaz) =(Tc,Pc,Vc) en unités SI et pour une mole\n",
    "# Calcule les valeurs critiques grâce à a et b\n",
    "\n",
    "def valcrit(gaz):\n",
    "    valcrit=(100*8*gaz[0]/(27*R*gaz[1]),10**5*gaz[0]/(27*gaz[1]**2),3*gaz[1]/10**3)\n",
    "    return valcrit"
   ]
  },
  {
   "cell_type": "code",
   "execution_count": null,
   "metadata": {},
   "outputs": [],
   "source": [
    "valcrit(co2)"
   ]
  },
  {
   "cell_type": "code",
   "execution_count": null,
   "metadata": {},
   "outputs": [],
   "source": [
    "valcrit(sf6)"
   ]
  },
  {
   "cell_type": "code",
   "execution_count": null,
   "metadata": {},
   "outputs": [],
   "source": [
    "valcrit(h2o)"
   ]
  },
  {
   "cell_type": "code",
   "execution_count": null,
   "metadata": {},
   "outputs": [],
   "source": [
    "\n",
    "#Normalized Van der Waals equation of state. We use Tr=T/Tc; Pr=P/Pc and Vr= V/Vc\n",
    "def vdwnorm(Tr,Vr):\n",
    "    press=8*Tr/(3*Vr-1)-3/Vr**2\n",
    "    return press\n",
    "\n",
    "# Non normalized vdw for a given gaz (for 1 mol)\n",
    "def vdwpressure(T,V,gaz):\n",
    "    vc=valcrit(gaz)\n",
    "    press=vc[1]*vdwnorm(T/vc[0],V/vc[2])\n",
    "    return press\n",
    "\n",
    "# Non normalized ideal gaz (for 1 mol)\n",
    "def gp(T,V):\n",
    "    press=R*T/V\n",
    "    return press\n"
   ]
  },
  {
   "cell_type": "markdown",
   "metadata": {},
   "source": [
    "## Courbe de Saturation\n",
    "Le calcul de la courbe de saturation normalisée se fait grâce à la règle de Maxwell. Il est un peu pédestre, et numérique. Le fichier \"saturation.csv\" contient les valeurs $T/T_C$, $p_\\text{sat}/p_C$, et les volumes normalisée pour $T/T_C$ allant de 0.35 à 1. "
   ]
  },
  {
   "cell_type": "code",
   "execution_count": null,
   "metadata": {},
   "outputs": [],
   "source": [
    "#we read the data of the (normalized) saturation curve that was obtained using Mawell's law \n",
    "sat= pd.read_csv('saturation.csv').values\n",
    "vl=sat[:,2] #Volume du liquide\n",
    "vg=sat[:,3] #Volume du gaz\n",
    "psat=sat[:,1] #pression de vapeur saturante"
   ]
  },
  {
   "cell_type": "markdown",
   "metadata": {},
   "source": [
    "### Tracé des isothermes en coordonnées normalisées"
   ]
  },
  {
   "cell_type": "code",
   "execution_count": null,
   "metadata": {
    "scrolled": false
   },
   "outputs": [],
   "source": [
    "V = np.linspace(0.45,20,5000)\n",
    "p = vdwnorm(1,V)\n",
    "f=figure(title=\"isothermes de VdW en coordonnées normalisées\",x_axis_label=\"volume réduit\",\n",
    "         y_axis_label=\"pression réduite\",y_range=(0, 3), plot_height=400, plot_width=600,\n",
    "        x_range=(0.3, 3))\n",
    "ncurves=12\n",
    "intcurves=.02\n",
    "for n in range(0,ncurves):\n",
    "    f.line(V,vdwnorm(1-intcurves*n,V),color='lightgrey')\n",
    "    f.line(V,vdwnorm(1+intcurves*n,V),color='lightgrey')\n",
    "f.line(vl,psat,color='grey',line_width=3)\n",
    "f.line(vg,psat,color='grey',line_width=3)\n",
    "f.line(V,vdwnorm(0.9,V),line_width=3,color=\"blue\",legend_label=\"T*=0.9\")\n",
    "f.line(V,vdwnorm(1,V),line_width=3,color=\"red\",legend_label=\"T*=1\")\n",
    "f.line(V,vdwnorm(1.1,V),line_width=3,color=\"green\",legend_label=\"T*=1.1\")\n",
    "\n",
    "pallier=[0.603, 2.3559]\n",
    "psatmaxwell=[0.6461,0.6461]\n",
    "f.line(pallier,psatmaxwell,line_width=3,color=\"blue\")\n",
    "\n",
    "show(f)"
   ]
  },
  {
   "cell_type": "markdown",
   "metadata": {},
   "source": [
    "### Exemple pour le SF6. Comparaison de l'isotherme de Van der Waals et de l'isotherme du gaz parfait\n",
    "\n",
    "Tracé entre 0.45$V_c$ et 100$V_c$\n",
    "\n",
    "La température est un paramètre ajustable"
   ]
  },
  {
   "cell_type": "code",
   "execution_count": null,
   "metadata": {},
   "outputs": [],
   "source": [
    "vcsf6 = valcrit(sf6)\n",
    "\n",
    "V = np.linspace(0.45*vcsf6[2]*1000,100*vcsf6[2]*1000,5000)\n",
    "pvdw = vdwpressure(200,V/1000,sf6)/10**5\n",
    "pgp = gp(200,V/1000)/10**5\n",
    "\n",
    "f1 = figure(title=\"SF6 ( 1 mole)\",x_axis_label=\"volume(litres) \",\n",
    "         y_axis_label=\"pression (bar)\", plot_height=600, plot_width=800,x_range=(-2*vcsf6[2]*1000,100*vcsf6[2]*1000))\n",
    "\n",
    "\n",
    "l1 = f1.line(V,pvdw,line_width=4,legend_label=\"VdW\")\n",
    "l2 = f1.line(V,pgp,line_width=2,color=\"grey\",legend_label=\"GP\")\n",
    "\n",
    "def update(T=293.15):\n",
    "    l1.data_source.data['y'] = vdwpressure(T,V/1000,sf6)/10**5\n",
    "    l2.data_source.data['y'] = gp(T,V/1000)/10**5\n",
    "    push_notebook()\n",
    "\n",
    "\n",
    "show(f1,notebook_handle=True)\n",
    "\n",
    "interact(update,  T=(270,328,1));"
   ]
  },
  {
   "cell_type": "markdown",
   "metadata": {},
   "source": [
    "### Tracé de la courbe expérimentale obtenue par la manip \"tour du point critique\"\n",
    "Points relevés sur la manip alors que le thermostat était à 38.4"
   ]
  },
  {
   "cell_type": "code",
   "execution_count": null,
   "metadata": {},
   "outputs": [],
   "source": [
    "Image(\"tour_pt_critique_shema.png\")"
   ]
  },
  {
   "cell_type": "code",
   "execution_count": null,
   "metadata": {},
   "outputs": [],
   "source": [
    "sf6exp= pd.read_csv('isoth_sf6.txt').values\n",
    "h2=8\n",
    "Vc_exp=14+h2/3\n",
    "\n",
    "#Volume, renormalisé pour une mole\n",
    "V_exp=1000*valcrit(sf6)[2]*(130-sf6exp[:,1]+h2/3)/Vc_exp\n",
    "p_exp=sf6exp[:,2]\n",
    "f3=figure(plot_height=400, plot_width=600,x_axis_label=\"Volume pour une mole(l)\",y_axis_label=\"prerssion (bar)\")\n",
    "y2=f3.line(V_exp,p_exp,color=\"red\")\n",
    "y2=f3.circle(V_exp,p_exp,color=\"red\",legend_label=\"Isotherme à 38.4°C\")\n",
    "\n",
    "show(f3)"
   ]
  },
  {
   "cell_type": "markdown",
   "metadata": {},
   "source": [
    "### Comparaison entre l'expérience et les isothermes VdW et du GP\n",
    "\n",
    "On en conclut que vdW ne marche en fait pas très bien pour le SF6"
   ]
  },
  {
   "cell_type": "code",
   "execution_count": null,
   "metadata": {},
   "outputs": [],
   "source": [
    "vcsf6 = valcrit(sf6)\n",
    "\n",
    "V = np.linspace(0.55*vcsf6[2]*1000,10*vcsf6[2]*1000,500)\n",
    "p = vdwpressure(200,V/1000,sf6)/10**5\n",
    "pi = gp(200,V/1000)/10**5\n",
    "\n",
    "f4 = figure(title=\"SF6 ( 1 mole)\",x_axis_label=\"volume(litres) \",\n",
    "         y_axis_label=\"pression (bar)\", plot_height=600, plot_width=800,x_range=(-0.5*vcsf6[2]*1000,10*vcsf6[2]*1000))\n",
    "\n",
    "f4.line(vl*vcsf6[2]*1000,psat*vcsf6[1]/10**5,color='orange',line_width=2)\n",
    "f4.line(vg*vcsf6[2]*1000,psat*vcsf6[1]/10**5,color='orange',line_width=2)\n",
    "\n",
    "\n",
    "pvdw4 = f4.line(V,p,line_width=4,legend_label=\"VdW\")\n",
    "pgp4 = f4.line(V,pi,line_width=2,color=\"grey\",legend_label=\"GP\")\n",
    "exp1 = f4.circle(V_exp,p_exp,color=\"red\",legend_label=\"Expérience\")\n",
    "exp2 = f4.line(V_exp,p_exp,color=\"red\")\n",
    "\n",
    "def update(t=38.4):\n",
    "    pvdw4.data_source.data['y'] = vdwpressure(t+273.15,V/1000,sf6)/10**5\n",
    "    pgp4.data_source.data['y'] = gp(t+273.15,V/1000)/10**5\n",
    "    push_notebook()\n",
    "\n",
    "\n",
    "show(f4,notebook_handle=True)\n",
    "\n",
    "interact(update,  t=(25,55,0.2));"
   ]
  },
  {
   "cell_type": "markdown",
   "metadata": {},
   "source": [
    "## Tracé d'un réseau de n isothermes entre tmax et tmin (en °C)"
   ]
  },
  {
   "cell_type": "code",
   "execution_count": null,
   "metadata": {},
   "outputs": [],
   "source": [
    "\n",
    "tmin=38\n",
    "tmax=48\n",
    "ncurves=6\n",
    "\n",
    "\n",
    "vcsf6 = valcrit(sf6)\n",
    "\n",
    "V = np.linspace(0.45*vcsf6[2]*1000,100*vcsf6[2]*1000,5000)\n",
    "\n",
    "\n",
    "f5 = figure(title=\"SF6 (1 mole)\",x_axis_label=\"volume (litres) \",\n",
    "         y_axis_label=\"pression (bar)\", plot_height=400, plot_width=600,x_range=(-2*vcsf6[2]*1000,100*vcsf6[2]*1000))\n",
    "\n",
    "#Courbe de saturation\n",
    "f5.line(vl*vcsf6[2]*1000,psat*vcsf6[1]/10**5,color='grey',line_width=2)\n",
    "f5.line(vg*vcsf6[2]*1000,psat*vcsf6[1]/10**5,color='grey',line_width=2)\n",
    "\n",
    "mypalette = bokeh.palettes.inferno(ncurves+1)\n",
    "temperatures=np.linspace(tmax,tmin,ncurves)\n",
    "\n",
    "vdwp = dict()\n",
    "\n",
    "j=0\n",
    "\n",
    "for i in temperatures:\n",
    "    tstr=str(round(i,2))\n",
    "    legend=\"T=\"+tstr+\"°C\"\n",
    "    vdwp[i] = vdwpressure(i+273.15,V/1000,sf6)/10**5\n",
    "    f5.line(V,vdwp[i],legend_label=legend,line_width=2,color=mypalette[j])\n",
    "    j=j+1\n",
    "    \n",
    "show(f5)"
   ]
  },
  {
   "cell_type": "markdown",
   "metadata": {},
   "source": [
    "## Tentative de faire un truc interractif ou on pourrait choisir le nombre de courbes. Ca ne marche pas (encore)"
   ]
  },
  {
   "cell_type": "code",
   "execution_count": null,
   "metadata": {},
   "outputs": [],
   "source": [
    "mypalette6 = bokeh.palettes.inferno(8)\n",
    "\n",
    "vcsf6 = valcrit(sf6)\n",
    "\n",
    "V = np.linspace(0.45*vcsf6[2]*1000,100*vcsf6[2]*1000,5000)\n",
    "\n",
    "\n",
    "f4 = figure(title=\"SF6 (1 mole)\",x_axis_label=\"volume (litres) \",\n",
    "         y_axis_label=\"pression (bar)\", plot_height=400, plot_width=600,x_range=(-2*vcsf6[2]*1000,100*vcsf6[2]*1000))\n",
    "\n",
    "#Courbe de saturation\n",
    "f4.line(vl*vcsf6[2]*1000,psat*vcsf6[1]/10**5,color='grey',line_width=2)\n",
    "f4.line(vg*vcsf6[2]*1000,psat*vcsf6[1]/10**5,color='grey',line_width=2)\n",
    "\n",
    "temperatures=np.linspace(38,48,6)\n",
    "\n",
    "vdwp = dict()\n",
    "\n",
    "j=0\n",
    "\n",
    "for i in temperatures:\n",
    "    tstr=str(round(i,2))\n",
    "    legend=\"T=\"+tstr+\"°C\"\n",
    "    vdwp[i] = vdwpressure(i+273.15,V/1000,sf6)/10**5\n",
    "    f4.line(V,vdwp[i],legend_label=legend,line_width=2,color=mypalette6[j])\n",
    "    j=j+1\n",
    "    \n",
    "\n",
    "def update(tmin=38,tmax=48,ncurves=6):\n",
    "    vdwp = dict()\n",
    "    temperatures=np.linspace(tmin,tmax,ncurves)\n",
    "    j=0\n",
    "    for i in temperatures:\n",
    "        tstr=str(round(i,2))\n",
    "        legend=\"T=\"+tstr+\"°C\"\n",
    "        vdwp[i].data_source.data['y'] = vdwpressure(i+273.15,V/1000,sf6)/10**5\n",
    "        j=j+1\n",
    "   \n",
    "    push_notebook()\n",
    "\n",
    "\n",
    "show(f4,notebook_handle=True)\n",
    "\n",
    "interact(update,  tmin=(25,55,1),tmax=(25,55,1),ncurves=(1,10,1));\n",
    "\n"
   ]
  },
  {
   "cell_type": "markdown",
   "metadata": {},
   "source": [
    "## L'eau avec VdW: ça ne marche pas bien du tout aux conditions ambiantes:\n",
    "\n",
    "On remarque que à 100°C, $p_\\text{sat}$ vaut dans les 20 bars, et l'eau bout à -15°C à pression atmosphérique..."
   ]
  },
  {
   "cell_type": "code",
   "execution_count": null,
   "metadata": {},
   "outputs": [],
   "source": [
    "h2o=(5.537,0.03049)\n",
    "#h2o=(6.2,0.02049)\n",
    "vch2o = valcrit(h2o)\n",
    "\n",
    "V = np.linspace(0.35*vch2o[2]*1000,500*vch2o[2]*1000,5000)\n",
    "p = vdwpressure(200,V/1000,h2o)/10**5\n",
    "pgp = gp(200,V/1000)/10**5\n",
    "\n",
    "f2 = figure(title=\"Eau\",x_axis_label=\"volume(litres) \",\n",
    "         y_axis_label=\"pression (bar)\", plot_height=400, plot_width=600,x_range=(-2*vch2o[2]*1000,500*vch2o[2]*1000),\n",
    "           y_range=(-20,250))\n",
    "\n",
    "f2.line(vl*vch2o[2]*1000,psat*vch2o[1]/10**5,color='grey',line_width=2)\n",
    "f2.line(vg*vch2o[2]*1000,psat*vch2o[1]/10**5,color='grey',line_width=2)\n",
    "\n",
    "r = f2.line(V,p,line_width=2)\n",
    "#r2 = f2.line(V,pgp,color=\"orange\")\n",
    "\n",
    "def update(T=393):\n",
    "    r.data_source.data['y'] = vdwpressure(T,V/1000,h2o)/10**5\n",
    "#    r2.data_source.data['y'] = gp(T,V/1000)/10**5\n",
    "    push_notebook()\n",
    "\n",
    "\n",
    "show(f2,notebook_handle=True)\n",
    "\n",
    "interact(update,  T=(240,700,1));"
   ]
  },
  {
   "cell_type": "markdown",
   "metadata": {},
   "source": [
    "## Peng Robinson 78 pour l'eau\n",
    "\n",
    "C'est l'équation d'état qui semble bien marcher pour l'eau. On pourrait calculer la courbe de saturation avec la rêgle de Maxwell comme pour van der Waals. Par contre, il faut se méfier de la forme de la courbe (extrêmement piquée puis très plate) qui va rendre le calcul numérique un peu problématique."
   ]
  },
  {
   "cell_type": "code",
   "execution_count": null,
   "metadata": {},
   "outputs": [],
   "source": [
    "Image(\"PengRob.png\")"
   ]
  },
  {
   "cell_type": "code",
   "execution_count": null,
   "metadata": {},
   "outputs": [],
   "source": [
    "#h2opr=(Tc,pc,omega)\n",
    "h2opr=(647.3,221*10**5,0.344)\n",
    "bprh20=0.078*R*h2opr[0]/(h2opr[1])\n",
    "def pengrob(T,V,gazpr):\n",
    "    Tc=gazpr[0]\n",
    "    pc=gazpr[1]\n",
    "    omega=gazpr[2]\n",
    "    a=0.45724*R**2*Tc**2/pc\n",
    "    b=0.078*R*Tc/pc\n",
    "    kappa=0.37464+1.5422*omega-0.26992*omega**2\n",
    "    alpha=(1+kappa*(1-(T/Tc)**0.5))**2\n",
    "    press=R*T/(V-b)-a*alpha/(V**2+2*b*V-b**2)\n",
    "    return press\n"
   ]
  },
  {
   "cell_type": "code",
   "execution_count": null,
   "metadata": {},
   "outputs": [],
   "source": [
    "V = np.linspace(1.05*bprh20*1000,200*bprh20*1000,5000)\n",
    "ppr=pengrob(373,V/1000,h2opr)/10**5\n",
    "\n",
    "f7=figure()\n",
    "f7.line(V,ppr)\n",
    "show(f7)"
   ]
  },
  {
   "cell_type": "code",
   "execution_count": null,
   "metadata": {},
   "outputs": [],
   "source": [
    "vch2o"
   ]
  },
  {
   "cell_type": "code",
   "execution_count": null,
   "metadata": {},
   "outputs": [],
   "source": [
    "mypalette6 = bokeh.palettes.inferno(6)\n",
    "\n",
    "vcco2 = valcrit(co2)\n",
    "\n",
    "V = np.linspace(0.45*vcco2[2]*1000,100*vcco2[2]*1000,5000)\n",
    "\n",
    "\n",
    "f2 = figure(title=\"CO2\",x_axis_label=\"volume (litres) \",\n",
    "         y_axis_label=\"pression (bar)\", plot_height=400, plot_width=600,x_range=(-2*vcco2[2]*1000,100*vcco2[2]*1000))\n",
    "\n",
    "#Courbe de saturation\n",
    "f2.line(vl*vcco2[2]*1000,psat*vcco2[1]/10**5,color='grey',line_width=2)\n",
    "f2.line(vg*vcco2[2]*1000,psat*vcco2[1]/10**5,color='grey',line_width=2)\n",
    "\n",
    "temperatures=np.linspace(10,50,5)\n",
    "\n",
    "j=0\n",
    "\n",
    "for i in temperatures:\n",
    "    temp=str(int(i))\n",
    "    p = vdwpressure(i+273.15,V/1000,co2)/10**5\n",
    "    f2.line(V,p,legend_label=temp,line_width=2,color=mypalette6[j])\n",
    "    j=j+1\n",
    "    \n",
    "show(f2)"
   ]
  },
  {
   "cell_type": "markdown",
   "metadata": {},
   "source": [
    "Notebook by Cécile Hébert (2019-2023).\n",
    "Except where otherwise noted, the content of this notebook is licensed under MIT licence."
   ]
  }
 ],
 "metadata": {
  "hide_input": false,
  "kernelspec": {
   "display_name": "Python 3 (ipykernel)",
   "language": "python",
   "name": "python3"
  },
  "language_info": {
   "codemirror_mode": {
    "name": "ipython",
    "version": 3
   },
   "file_extension": ".py",
   "mimetype": "text/x-python",
   "name": "python",
   "nbconvert_exporter": "python",
   "pygments_lexer": "ipython3",
   "version": "3.9.15"
  }
 },
 "nbformat": 4,
 "nbformat_minor": 2
}
