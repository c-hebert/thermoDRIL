{
 "cells": [
  {
   "cell_type": "markdown",
   "metadata": {},
   "source": [
    "## Programme permettant de simuler un gaz parfait 2D avec des particules dans une boite\n",
    "\n",
    "On distribue $N$ particules en leur donnant soit des vitesses aléatoires ou régulières et des positions aléatoires ou régulières.\n",
    "\n",
    "On peut changer leur rayon. \n",
    "\n",
    "On considère des particules identiques, sous forme de disque ayant des interactions élastiques entre elles ou avec la parroi. \n",
    "\n",
    "Il est intéressant de voir l'évolution de la distribution des vitesses avec le temps quand on donne au départ la même vitesse à toutes les particules (thermalisation).\n",
    "\n",
    "Faire un film intéressant (de longueur suffisante) demande vite 500 pas ou plus et prend un peu de temps.\n"
   ]
  },
  {
   "cell_type": "code",
   "execution_count": null,
   "metadata": {},
   "outputs": [],
   "source": [
    "import os, math, pylab\n",
    "import numpy as np\n",
    "import numpy.random\n",
    "import io\n",
    "import base64\n",
    "from IPython.display import HTML"
   ]
  },
  {
   "cell_type": "code",
   "execution_count": null,
   "metadata": {},
   "outputs": [],
   "source": [
    "def wall_time(pos_a, vel_a, sigma):\n",
    "    \"\"\"Fonction qui détermine le prochain choc d'une particule avec un mur.\"\"\"\n",
    "    if vel_a > 0.0:\n",
    "        del_t = (1.0 - sigma - pos_a) / vel_a\n",
    "    elif vel_a < 0.0:\n",
    "        del_t = (pos_a - sigma) / abs(vel_a)\n",
    "    else:\n",
    "        del_t = float('inf')\n",
    "    return del_t"
   ]
  },
  {
   "cell_type": "code",
   "execution_count": null,
   "metadata": {},
   "outputs": [],
   "source": [
    "def pair_time(pos_a, vel_a, pos_b, vel_b, sigma):\n",
    "    \"\"\"Fonction qui détermine le temps du prochain choc d'une particule avec une autre.\"\"\"\n",
    "    del_x = [pos_b[0] - pos_a[0], pos_b[1] - pos_a[1]]\n",
    "    del_x_sq = del_x[0] ** 2 + del_x[1] ** 2\n",
    "    del_v = [vel_b[0] - vel_a[0], vel_b[1] - vel_a[1]]\n",
    "    del_v_sq = del_v[0] ** 2 + del_v[1] ** 2\n",
    "    scal = del_v[0] * del_x[0] + del_v[1] * del_x[1]\n",
    "    Upsilon = scal ** 2 - del_v_sq * (del_x_sq - 4.0 * sigma ** 2)\n",
    "    if Upsilon > 0.0 and scal < 0.0:\n",
    "        del_t = - (scal + math.sqrt(Upsilon)) / del_v_sq\n",
    "    else:\n",
    "        del_t = float('inf')\n",
    "    return del_t"
   ]
  },
  {
   "cell_type": "code",
   "execution_count": null,
   "metadata": {},
   "outputs": [],
   "source": [
    "def min_arg(l):\n",
    "    \"\"\"Récupère à la fois le minimum d'une liste et l'indice correspondant à ce minimum.\"\"\"\n",
    "    return min(zip(l, range(len(l))))\n"
   ]
  },
  {
   "cell_type": "code",
   "execution_count": null,
   "metadata": {},
   "outputs": [],
   "source": [
    "def compute_next_event(pos, vel):\n",
    "    \"\"\" Détermination du prochain \"évènement\", c'est-à-dire l'instant de ce \n",
    "    choc et la particule (ou la paire) correspondante. À noter que l'on stocke \n",
    "    toutes ces infos dans un seul indice (cf disjonction de cas dans \n",
    "    compute_new_velocities).\"\"\"\n",
    "    wall_times = [wall_time(pos[k][l], vel[k][l], sigma) for k, l in singles]\n",
    "    pair_times = [pair_time(pos[k], vel[k], pos[l], vel[l], sigma) for k, l in pairs]\n",
    "    return min_arg(wall_times + pair_times)\n"
   ]
  },
  {
   "cell_type": "code",
   "execution_count": null,
   "metadata": {},
   "outputs": [],
   "source": [
    "def compute_new_velocities(pos, vel, next_event_arg):\n",
    "    \"\"\"Calcul des nouvelles vitesses\"\"\"\n",
    "    if next_event_arg < len(singles): # Cas d'un choc avec le mur\n",
    "        collision_disk, direction = singles[next_event_arg]\n",
    "        vel[collision_disk][direction] *= -1.0 # seule la vitesse sur cet axe est modifiée\n",
    "    else:                             # Cas d'un choc entre deux particules de même masse\n",
    "        a, b = pairs[next_event_arg - len(singles)]\n",
    "        del_x = [pos[b][0] - pos[a][0], pos[b][1] - pos[a][1]]\n",
    "        abs_x = math.sqrt(del_x[0] ** 2 + del_x[1] ** 2)\n",
    "        e_perp = [c / abs_x for c in del_x]\n",
    "        del_v = [vel[b][0] - vel[a][0], vel[b][1] - vel[a][1]]\n",
    "        scal = del_v[0] * e_perp[0] + del_v[1] * e_perp[1]\n",
    "        for k in range(2):\n",
    "            vel[a][k] += e_perp[k] * scal\n",
    "            vel[b][k] -= e_perp[k] * scal\n"
   ]
  },
  {
   "cell_type": "code",
   "execution_count": null,
   "metadata": {},
   "outputs": [],
   "source": [
    "def snapshot(t, pos, vel, colors, X, Y, arrow_scale=.2):\n",
    "    \"\"\" La routine qui s'occupe des tracés graphiques.\"\"\"\n",
    "    global img\n",
    "    nbmax = 20\n",
    "    pylab.subplots_adjust(left=0.0, right=1, top=1, bottom=0)\n",
    "    pylab.gcf().set_size_inches(12, 12*2/3)\n",
    "    # Le premier sous-plot: carré de 2x2\n",
    "    ax1 = pylab.subplot2grid((2,3),(0,0),colspan=2,rowspan=2)\n",
    "    pylab.setp(pylab.gca(), xticks=[0, 1], yticks=[0, 1])\n",
    "    pylab.plot(X,Y,'k',lw=0.8) # On y met le trajet de la dernière particule\n",
    "    pylab.xlim((0,1))   # On doit astreindre les côtés horizontaux\n",
    "    pylab.ylim((0,1))   # et verticaux\n",
    "    # Boucle sur les points pour rajouter les cercles colorés\n",
    "    for (x, y), c in zip(pos, colors): \n",
    "        circle = pylab.Circle((x, y), radius=sigma, fc=c)\n",
    "        pylab.gca().add_patch(circle)\n",
    "    dx,dy = vel[-1] * arrow_scale # La dernière particule a droit à son vecteur vitesse\n",
    "    pylab.arrow( x, y, dx, dy, fc=\"r\", ec=\"r\", head_width=0.02, head_length=0.05 )\n",
    "    pylab.text(.5, 1.03, 't = %.2f' % t, ha='center')\n",
    "    # Second sous-plot: histogramme de la projection suivant x et y des vitesses\n",
    "    ax2 = pylab.subplot2grid((2,3),(0,2),colspan=1,rowspan=1)\n",
    "    r = (-2,2)  # Intervalle de vitesses regardé\n",
    "    pylab.hist(vel[:,0],bins=20,range=r,alpha=0.5)\n",
    "    pylab.hist(vel[:,1],bins=20,range=r, alpha=0.5)\n",
    "    pylab.xlim(r)\n",
    "    pylab.ylim((0,nbmax))\n",
    "    pylab.ylabel(\"Nombre de particules\")\n",
    "    pylab.xlabel(\"$v_x$ (bleu), $v_y$ (orange)\")\n",
    "    # Troisième sous-plot: histogramme de la norme des vitesses\n",
    "    ax3 = pylab.subplot2grid((2,3),(1,2),colspan=1,rowspan=1)\n",
    "    r = (0,2)   # Intervalle de vitesses regardé\n",
    "    v = np.linspace(0,2,100)\n",
    "    mb = 10*maxbol(v,kbt)\n",
    "    pylab.plot(v,mb)\n",
    "    pylab.hist(np.sqrt(np.sum(vel**2,axis=1)),bins=20,range=r)\n",
    "    pylab.plot(v)\n",
    "    pylab.xlim(r)\n",
    "    pylab.ylim((0,nbmax))\n",
    "    pylab.ylabel(\"Nombre de particules\")\n",
    "    pylab.xlabel(\"$||\\\\vec{v}||$\")\n",
    "    pylab.savefig(os.path.join(output_dir, '{:04d}.png'.format(img)), bbox_inches=\"tight\")\n",
    "    img += 1\n"
   ]
  },
  {
   "cell_type": "code",
   "execution_count": null,
   "metadata": {},
   "outputs": [],
   "source": [
    "def check_position():\n",
    "    \"\"\" Une routine pour s'assurer que les particules ne se chevauchent pas au \n",
    "    départ. Il peut se passer un certain temps avant que l'on trouve une \n",
    "    configuration adéquate. \"\"\"\n",
    "    continue_condition = True  # Condition de non-arrêt\n",
    "    c = 0                      # Compteur\n",
    "    d2= 4*sigma**2             # Distance (carrée) de sécurité\n",
    "    while continue_condition:\n",
    "        c += 1\n",
    "        if c%100 == 0:         # Un peu de feedback\n",
    "           print(c,'trials to get initial conditions and still trying...')\n",
    "        pos = np.random.random((N,2))*(1-2*sigma) + sigma\n",
    "        k = 0\n",
    "        for (i,j) in pairs:    # Les vérifications sur toutes les paires\n",
    "            if sum((pos[i]-pos[j])**2) > d2: k+= 1\n",
    "            else:\n",
    "                if c%100 == 0: print(i,j)\n",
    "                break\n",
    "        if k == len(pairs): continue_condition = False\n",
    "    print(\"Let's compute some physics !\")\n",
    "    return pos\n"
   ]
  },
  {
   "cell_type": "markdown",
   "metadata": {},
   "source": [
    "Maxwell-Bolzmann a 2D"
   ]
  },
  {
   "cell_type": "code",
   "execution_count": null,
   "metadata": {},
   "outputs": [],
   "source": [
    "def maxbol(v,kbt):\n",
    "    mb=(v/kbt)*np.exp(-0.5*v**2/kbt)\n",
    "    return(mb)\n",
    "    "
   ]
  },
  {
   "cell_type": "code",
   "execution_count": null,
   "metadata": {},
   "outputs": [],
   "source": [
    "def reg_position(N):\n",
    "    dist_ini= 1 / (np.sqrt(N)+1)\n",
    "    pos2=np.linspace(dist_ini,1-dist_ini,int(np.sqrt(N)))\n",
    "    pos3=[]\n",
    "    for i in pos2:\n",
    "        for j in pos2:\n",
    "            pos3.append([i,j])\n",
    "    pos=pos3\n",
    "    return(pos)"
   ]
  },
  {
   "cell_type": "code",
   "execution_count": null,
   "metadata": {},
   "outputs": [],
   "source": [
    "def reg_vel(N):\n",
    "    vel = np.zeros((N,2))+(0.5,0) # tout le monde part vers la droite avec vx=0.5 \n",
    "    return(vel)"
   ]
  },
  {
   "cell_type": "markdown",
   "metadata": {},
   "source": [
    "## Les paramètre à changer\n",
    "\n",
    "Nombre de particules, nombre de chocs, est-ce que la distribution des particules est régulères ou aléatoires, est-ce que les particules ont une distribution de vitesse aléatoires ou elles ont toutes la même vitesse?\n",
    "\n",
    "On peut aussi essayer \"refaire\" le film inverse en partant de la dernière valeur des positions et vitesses et en inversant les vitesses. On remarque qu'il ne faut pas beaucoup de particules pour que ça ne marche pas. \n",
    "\n",
    "Penser à changer e nom du film pour ne pas écraser l'ancien..."
   ]
  },
  {
   "cell_type": "code",
   "execution_count": null,
   "metadata": {},
   "outputs": [],
   "source": [
    "N = 100\n",
    "vel_save = np.random.random((N,2))*2 - 1"
   ]
  },
  {
   "cell_type": "code",
   "execution_count": null,
   "metadata": {},
   "outputs": [],
   "source": [
    "# options for main program\n",
    "reg_pos= 0 # 0: random initial positions; 1 regular initial positions\n",
    "id_vel = 1  # 0: random initial velocities; 1: all initial velocities equal\n",
    "reverse = 0 # 0: restart; 1: start with stored (random) velocities 2: start with end positions of last run and inversed velocities\n",
    "\n",
    "n_steps = 500 # Nombre de chocs\n",
    "\n",
    "moviename='Film_test.mp4'\n",
    "\n"
   ]
  },
  {
   "cell_type": "code",
   "execution_count": null,
   "metadata": {},
   "outputs": [],
   "source": [
    "#  main program\n",
    "\n",
    "output_dir = \"PNG/T1_particules_en_boite_libre_movie\"\n",
    "\n",
    "cmd3 = 'rm ' + output_dir + '/*.png'\n",
    "os.system(cmd3)                    #On efface les anciennes images\n",
    "\n",
    "colors = ['grey']*N\n",
    "colors[-1]='red'\n",
    "\n",
    "img = 0\n",
    "if not os.path.exists(output_dir): os.makedirs(output_dir)\n",
    "    \n",
    "sigma = 0.01                       # Rayon des particules\n",
    "singles = [(i,j) for i in range(N) for j in range(2)]   # L'ensemble des particules (en 2D)\n",
    "pairs = [(i,j) for i in range(N) for j in range(i+1,N)] # L'ensemble des paires\n",
    "\n",
    "if reverse == 2:\n",
    "    vel = -vel\n",
    "    pos = pos # well, OK\n",
    "    print('if1')\n",
    "elif reverse == 1:\n",
    "    vel = vel_save.copy() # This SHOULD take the original velocities from vel_save\n",
    "    # BUT for whatever reason, sometimes, vel_save *IS* (slightly) altered, so that one cannot \n",
    "    # restart a calculation with the same conditions ???\n",
    "    pos = reg_position(N)\n",
    "    print('if2')\n",
    "elif reverse == 0 :\n",
    "    print('if3')\n",
    "    if reg_pos == 0:\n",
    "        print('if4')\n",
    "        pos = check_position()             # Sélection des positions (de manière aléatoire)\n",
    "    else :                                 # disposition régulière\n",
    "        print('if5')\n",
    "        pos = reg_position(N)  \n",
    "    if id_vel == 1 :\n",
    "        print('if6')\n",
    "        vel = np.zeros((N,2))+(0.5,0) # tout le monde part vers la droite avec vx=0.5 \n",
    "    else : vel = np.random.random((N,2))*2 - 1 # selection aléatoire des vitesses initiales\n",
    "\n",
    "#print('vel_save avant')        \n",
    "#print(vel_save)\n",
    "\n",
    "#print('vel initial')\n",
    "#print(vel)\n",
    "\n",
    "X,Y = [pos[-1][0]],[pos[-1][1]]    # La dernière particule va être suivie à la loupe\n",
    "\n",
    "t = 0.0                            # Temps initial\n",
    "dt = 0.01                          # interval \n",
    "\n",
    "\n",
    "vmoysq=0\n",
    "for i in range(len(vel)):\n",
    "    vmoysq += vel[i][0]**2+vel[i][1]**2\n",
    "\n",
    "vmoysq=vmoysq/len(vel) # vitesse quadratique moyenne au carré\n",
    "kbt=0.5*vmoysq # parceque m=1 donne la température du gaz\n",
    "print(kbt)\n",
    "\n",
    "\n",
    "next_event, next_event_arg = compute_next_event(pos, vel) # On calcule la première étape\n",
    "\n",
    "print(next_event)\n",
    "print(next_event_arg)\n",
    "\n",
    "snapshot(t, pos, vel, colors, X, Y)# et on prend une première photo.\n",
    "for step in range(n_steps): \n",
    "    tzero = t\n",
    "    while t <= tzero + next_event : # Début des calculs jusqu'à la prochaine sortie\n",
    "        t += dt            # On avance\n",
    "        pos += vel * dt    # On met à jour les position\n",
    "        X.append(pos[-1][0])           # Suivi x de la dernière particule\n",
    "        Y.append(pos[-1][1])           # Ainsi que Y\n",
    "        snapshot(t,pos,vel,colors,X,Y) # Souriez pour la photo\n",
    "        print(t)\n",
    "    compute_new_velocities(pos, vel, next_event_arg)\n",
    "    next_event, next_event_arg = compute_next_event(pos, vel)\n",
    "    print('pas' , step, 'sur', n_steps)                # et un peu de feedback\n",
    "\n"
   ]
  },
  {
   "cell_type": "code",
   "execution_count": null,
   "metadata": {},
   "outputs": [],
   "source": [
    "cmd1 = 'rm ' + moviename\n",
    "#print(cmd1)\n",
    "os.system(cmd1) \n",
    "\n",
    "#filter_complex 'scale=864:576, pad=720:576:71:57'\n",
    "\n",
    "cmd2 = 'ffmpeg -framerate 24 -pattern_type glob -i \\'' + output_dir + '/*.png\\'  -vcodec libx264 -vf \"pad=ceil(iw/2)*2:ceil(ih/2)*2\" -pix_fmt yuv420p ' + moviename\n",
    "\n",
    "print(\"Execution de la commande de conversion\")\n",
    "print(cmd2)\n",
    "os.system(cmd2)\n",
    "print(\"Fin de la commande de conversion\")\n"
   ]
  },
  {
   "cell_type": "code",
   "execution_count": null,
   "metadata": {},
   "outputs": [],
   "source": [
    "import io\n",
    "import base64\n",
    "from IPython.display import HTML"
   ]
  },
  {
   "cell_type": "code",
   "execution_count": null,
   "metadata": {},
   "outputs": [],
   "source": [
    "video = io.open(moviename, 'r+b').read()\n",
    "encoded = base64.b64encode(video)\n",
    "HTML(data='''<video alt=\"test\" controls>\n",
    "                <source src=\"data:video/mp4;base64,{0}\" type=\"video/mp4\" />\n",
    "             </video>'''.format(encoded.decode('ascii')))"
   ]
  },
  {
   "cell_type": "markdown",
   "metadata": {},
   "source": [
    "Notebook by Cécile Hébert (2019-2023).\n",
    "Except where otherwise noted, the content of this notebook is licensed under MIT licence."
   ]
  }
 ],
 "metadata": {
  "hide_input": false,
  "kernelspec": {
   "display_name": "Python 3 (ipykernel)",
   "language": "python",
   "name": "python3"
  },
  "language_info": {
   "codemirror_mode": {
    "name": "ipython",
    "version": 3
   },
   "file_extension": ".py",
   "mimetype": "text/x-python",
   "name": "python",
   "nbconvert_exporter": "python",
   "pygments_lexer": "ipython3",
   "version": "3.9.15"
  }
 },
 "nbformat": 4,
 "nbformat_minor": 2
}
