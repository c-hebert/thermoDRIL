{
 "cells": [
  {
   "cell_type": "code",
   "execution_count": 1,
   "metadata": {},
   "outputs": [
    {
     "data": {
      "text/html": [
       "<div class=\"bk-root\">\n",
       "        <a href=\"https://bokeh.org\" target=\"_blank\" class=\"bk-logo bk-logo-small bk-logo-notebook\"></a>\n",
       "        <span id=\"1002\">Loading BokehJS ...</span>\n",
       "    </div>\n"
      ]
     },
     "metadata": {},
     "output_type": "display_data"
    },
    {
     "data": {
      "application/javascript": [
       "(function(root) {\n",
       "  function now() {\n",
       "    return new Date();\n",
       "  }\n",
       "\n",
       "  const force = true;\n",
       "\n",
       "  if (typeof root._bokeh_onload_callbacks === \"undefined\" || force === true) {\n",
       "    root._bokeh_onload_callbacks = [];\n",
       "    root._bokeh_is_loading = undefined;\n",
       "  }\n",
       "\n",
       "const JS_MIME_TYPE = 'application/javascript';\n",
       "  const HTML_MIME_TYPE = 'text/html';\n",
       "  const EXEC_MIME_TYPE = 'application/vnd.bokehjs_exec.v0+json';\n",
       "  const CLASS_NAME = 'output_bokeh rendered_html';\n",
       "\n",
       "  /**\n",
       "   * Render data to the DOM node\n",
       "   */\n",
       "  function render(props, node) {\n",
       "    const script = document.createElement(\"script\");\n",
       "    node.appendChild(script);\n",
       "  }\n",
       "\n",
       "  /**\n",
       "   * Handle when an output is cleared or removed\n",
       "   */\n",
       "  function handleClearOutput(event, handle) {\n",
       "    const cell = handle.cell;\n",
       "\n",
       "    const id = cell.output_area._bokeh_element_id;\n",
       "    const server_id = cell.output_area._bokeh_server_id;\n",
       "    // Clean up Bokeh references\n",
       "    if (id != null && id in Bokeh.index) {\n",
       "      Bokeh.index[id].model.document.clear();\n",
       "      delete Bokeh.index[id];\n",
       "    }\n",
       "\n",
       "    if (server_id !== undefined) {\n",
       "      // Clean up Bokeh references\n",
       "      const cmd_clean = \"from bokeh.io.state import curstate; print(curstate().uuid_to_server['\" + server_id + \"'].get_sessions()[0].document.roots[0]._id)\";\n",
       "      cell.notebook.kernel.execute(cmd_clean, {\n",
       "        iopub: {\n",
       "          output: function(msg) {\n",
       "            const id = msg.content.text.trim();\n",
       "            if (id in Bokeh.index) {\n",
       "              Bokeh.index[id].model.document.clear();\n",
       "              delete Bokeh.index[id];\n",
       "            }\n",
       "          }\n",
       "        }\n",
       "      });\n",
       "      // Destroy server and session\n",
       "      const cmd_destroy = \"import bokeh.io.notebook as ion; ion.destroy_server('\" + server_id + \"')\";\n",
       "      cell.notebook.kernel.execute(cmd_destroy);\n",
       "    }\n",
       "  }\n",
       "\n",
       "  /**\n",
       "   * Handle when a new output is added\n",
       "   */\n",
       "  function handleAddOutput(event, handle) {\n",
       "    const output_area = handle.output_area;\n",
       "    const output = handle.output;\n",
       "\n",
       "    // limit handleAddOutput to display_data with EXEC_MIME_TYPE content only\n",
       "    if ((output.output_type != \"display_data\") || (!Object.prototype.hasOwnProperty.call(output.data, EXEC_MIME_TYPE))) {\n",
       "      return\n",
       "    }\n",
       "\n",
       "    const toinsert = output_area.element.find(\".\" + CLASS_NAME.split(' ')[0]);\n",
       "\n",
       "    if (output.metadata[EXEC_MIME_TYPE][\"id\"] !== undefined) {\n",
       "      toinsert[toinsert.length - 1].firstChild.textContent = output.data[JS_MIME_TYPE];\n",
       "      // store reference to embed id on output_area\n",
       "      output_area._bokeh_element_id = output.metadata[EXEC_MIME_TYPE][\"id\"];\n",
       "    }\n",
       "    if (output.metadata[EXEC_MIME_TYPE][\"server_id\"] !== undefined) {\n",
       "      const bk_div = document.createElement(\"div\");\n",
       "      bk_div.innerHTML = output.data[HTML_MIME_TYPE];\n",
       "      const script_attrs = bk_div.children[0].attributes;\n",
       "      for (let i = 0; i < script_attrs.length; i++) {\n",
       "        toinsert[toinsert.length - 1].firstChild.setAttribute(script_attrs[i].name, script_attrs[i].value);\n",
       "        toinsert[toinsert.length - 1].firstChild.textContent = bk_div.children[0].textContent\n",
       "      }\n",
       "      // store reference to server id on output_area\n",
       "      output_area._bokeh_server_id = output.metadata[EXEC_MIME_TYPE][\"server_id\"];\n",
       "    }\n",
       "  }\n",
       "\n",
       "  function register_renderer(events, OutputArea) {\n",
       "\n",
       "    function append_mime(data, metadata, element) {\n",
       "      // create a DOM node to render to\n",
       "      const toinsert = this.create_output_subarea(\n",
       "        metadata,\n",
       "        CLASS_NAME,\n",
       "        EXEC_MIME_TYPE\n",
       "      );\n",
       "      this.keyboard_manager.register_events(toinsert);\n",
       "      // Render to node\n",
       "      const props = {data: data, metadata: metadata[EXEC_MIME_TYPE]};\n",
       "      render(props, toinsert[toinsert.length - 1]);\n",
       "      element.append(toinsert);\n",
       "      return toinsert\n",
       "    }\n",
       "\n",
       "    /* Handle when an output is cleared or removed */\n",
       "    events.on('clear_output.CodeCell', handleClearOutput);\n",
       "    events.on('delete.Cell', handleClearOutput);\n",
       "\n",
       "    /* Handle when a new output is added */\n",
       "    events.on('output_added.OutputArea', handleAddOutput);\n",
       "\n",
       "    /**\n",
       "     * Register the mime type and append_mime function with output_area\n",
       "     */\n",
       "    OutputArea.prototype.register_mime_type(EXEC_MIME_TYPE, append_mime, {\n",
       "      /* Is output safe? */\n",
       "      safe: true,\n",
       "      /* Index of renderer in `output_area.display_order` */\n",
       "      index: 0\n",
       "    });\n",
       "  }\n",
       "\n",
       "  // register the mime type if in Jupyter Notebook environment and previously unregistered\n",
       "  if (root.Jupyter !== undefined) {\n",
       "    const events = require('base/js/events');\n",
       "    const OutputArea = require('notebook/js/outputarea').OutputArea;\n",
       "\n",
       "    if (OutputArea.prototype.mime_types().indexOf(EXEC_MIME_TYPE) == -1) {\n",
       "      register_renderer(events, OutputArea);\n",
       "    }\n",
       "  }\n",
       "  if (typeof (root._bokeh_timeout) === \"undefined\" || force === true) {\n",
       "    root._bokeh_timeout = Date.now() + 5000;\n",
       "    root._bokeh_failed_load = false;\n",
       "  }\n",
       "\n",
       "  const NB_LOAD_WARNING = {'data': {'text/html':\n",
       "     \"<div style='background-color: #fdd'>\\n\"+\n",
       "     \"<p>\\n\"+\n",
       "     \"BokehJS does not appear to have successfully loaded. If loading BokehJS from CDN, this \\n\"+\n",
       "     \"may be due to a slow or bad network connection. Possible fixes:\\n\"+\n",
       "     \"</p>\\n\"+\n",
       "     \"<ul>\\n\"+\n",
       "     \"<li>re-rerun `output_notebook()` to attempt to load from CDN again, or</li>\\n\"+\n",
       "     \"<li>use INLINE resources instead, as so:</li>\\n\"+\n",
       "     \"</ul>\\n\"+\n",
       "     \"<code>\\n\"+\n",
       "     \"from bokeh.resources import INLINE\\n\"+\n",
       "     \"output_notebook(resources=INLINE)\\n\"+\n",
       "     \"</code>\\n\"+\n",
       "     \"</div>\"}};\n",
       "\n",
       "  function display_loaded() {\n",
       "    const el = document.getElementById(\"1002\");\n",
       "    if (el != null) {\n",
       "      el.textContent = \"BokehJS is loading...\";\n",
       "    }\n",
       "    if (root.Bokeh !== undefined) {\n",
       "      if (el != null) {\n",
       "        el.textContent = \"BokehJS \" + root.Bokeh.version + \" successfully loaded.\";\n",
       "      }\n",
       "    } else if (Date.now() < root._bokeh_timeout) {\n",
       "      setTimeout(display_loaded, 100)\n",
       "    }\n",
       "  }\n",
       "\n",
       "  function run_callbacks() {\n",
       "    try {\n",
       "      root._bokeh_onload_callbacks.forEach(function(callback) {\n",
       "        if (callback != null)\n",
       "          callback();\n",
       "      });\n",
       "    } finally {\n",
       "      delete root._bokeh_onload_callbacks\n",
       "    }\n",
       "    console.debug(\"Bokeh: all callbacks have finished\");\n",
       "  }\n",
       "\n",
       "  function load_libs(css_urls, js_urls, callback) {\n",
       "    if (css_urls == null) css_urls = [];\n",
       "    if (js_urls == null) js_urls = [];\n",
       "\n",
       "    root._bokeh_onload_callbacks.push(callback);\n",
       "    if (root._bokeh_is_loading > 0) {\n",
       "      console.debug(\"Bokeh: BokehJS is being loaded, scheduling callback at\", now());\n",
       "      return null;\n",
       "    }\n",
       "    if (js_urls == null || js_urls.length === 0) {\n",
       "      run_callbacks();\n",
       "      return null;\n",
       "    }\n",
       "    console.debug(\"Bokeh: BokehJS not loaded, scheduling load and callback at\", now());\n",
       "    root._bokeh_is_loading = css_urls.length + js_urls.length;\n",
       "\n",
       "    function on_load() {\n",
       "      root._bokeh_is_loading--;\n",
       "      if (root._bokeh_is_loading === 0) {\n",
       "        console.debug(\"Bokeh: all BokehJS libraries/stylesheets loaded\");\n",
       "        run_callbacks()\n",
       "      }\n",
       "    }\n",
       "\n",
       "    function on_error(url) {\n",
       "      console.error(\"failed to load \" + url);\n",
       "    }\n",
       "\n",
       "    for (let i = 0; i < css_urls.length; i++) {\n",
       "      const url = css_urls[i];\n",
       "      const element = document.createElement(\"link\");\n",
       "      element.onload = on_load;\n",
       "      element.onerror = on_error.bind(null, url);\n",
       "      element.rel = \"stylesheet\";\n",
       "      element.type = \"text/css\";\n",
       "      element.href = url;\n",
       "      console.debug(\"Bokeh: injecting link tag for BokehJS stylesheet: \", url);\n",
       "      document.body.appendChild(element);\n",
       "    }\n",
       "\n",
       "    for (let i = 0; i < js_urls.length; i++) {\n",
       "      const url = js_urls[i];\n",
       "      const element = document.createElement('script');\n",
       "      element.onload = on_load;\n",
       "      element.onerror = on_error.bind(null, url);\n",
       "      element.async = false;\n",
       "      element.src = url;\n",
       "      console.debug(\"Bokeh: injecting script tag for BokehJS library: \", url);\n",
       "      document.head.appendChild(element);\n",
       "    }\n",
       "  };\n",
       "\n",
       "  function inject_raw_css(css) {\n",
       "    const element = document.createElement(\"style\");\n",
       "    element.appendChild(document.createTextNode(css));\n",
       "    document.body.appendChild(element);\n",
       "  }\n",
       "\n",
       "  const js_urls = [\"https://cdn.bokeh.org/bokeh/release/bokeh-2.4.3.min.js\", \"https://cdn.bokeh.org/bokeh/release/bokeh-gl-2.4.3.min.js\", \"https://cdn.bokeh.org/bokeh/release/bokeh-widgets-2.4.3.min.js\", \"https://cdn.bokeh.org/bokeh/release/bokeh-tables-2.4.3.min.js\", \"https://cdn.bokeh.org/bokeh/release/bokeh-mathjax-2.4.3.min.js\"];\n",
       "  const css_urls = [];\n",
       "\n",
       "  const inline_js = [    function(Bokeh) {\n",
       "      Bokeh.set_log_level(\"info\");\n",
       "    },\n",
       "function(Bokeh) {\n",
       "    }\n",
       "  ];\n",
       "\n",
       "  function run_inline_js() {\n",
       "    if (root.Bokeh !== undefined || force === true) {\n",
       "          for (let i = 0; i < inline_js.length; i++) {\n",
       "      inline_js[i].call(root, root.Bokeh);\n",
       "    }\n",
       "if (force === true) {\n",
       "        display_loaded();\n",
       "      }} else if (Date.now() < root._bokeh_timeout) {\n",
       "      setTimeout(run_inline_js, 100);\n",
       "    } else if (!root._bokeh_failed_load) {\n",
       "      console.log(\"Bokeh: BokehJS failed to load within specified timeout.\");\n",
       "      root._bokeh_failed_load = true;\n",
       "    } else if (force !== true) {\n",
       "      const cell = $(document.getElementById(\"1002\")).parents('.cell').data().cell;\n",
       "      cell.output_area.append_execute_result(NB_LOAD_WARNING)\n",
       "    }\n",
       "  }\n",
       "\n",
       "  if (root._bokeh_is_loading === 0) {\n",
       "    console.debug(\"Bokeh: BokehJS loaded, going straight to plotting\");\n",
       "    run_inline_js();\n",
       "  } else {\n",
       "    load_libs(css_urls, js_urls, function() {\n",
       "      console.debug(\"Bokeh: BokehJS plotting callback run at\", now());\n",
       "      run_inline_js();\n",
       "    });\n",
       "  }\n",
       "}(window));"
      ],
      "application/vnd.bokehjs_load.v0+json": "(function(root) {\n  function now() {\n    return new Date();\n  }\n\n  const force = true;\n\n  if (typeof root._bokeh_onload_callbacks === \"undefined\" || force === true) {\n    root._bokeh_onload_callbacks = [];\n    root._bokeh_is_loading = undefined;\n  }\n\n\n  if (typeof (root._bokeh_timeout) === \"undefined\" || force === true) {\n    root._bokeh_timeout = Date.now() + 5000;\n    root._bokeh_failed_load = false;\n  }\n\n  const NB_LOAD_WARNING = {'data': {'text/html':\n     \"<div style='background-color: #fdd'>\\n\"+\n     \"<p>\\n\"+\n     \"BokehJS does not appear to have successfully loaded. If loading BokehJS from CDN, this \\n\"+\n     \"may be due to a slow or bad network connection. Possible fixes:\\n\"+\n     \"</p>\\n\"+\n     \"<ul>\\n\"+\n     \"<li>re-rerun `output_notebook()` to attempt to load from CDN again, or</li>\\n\"+\n     \"<li>use INLINE resources instead, as so:</li>\\n\"+\n     \"</ul>\\n\"+\n     \"<code>\\n\"+\n     \"from bokeh.resources import INLINE\\n\"+\n     \"output_notebook(resources=INLINE)\\n\"+\n     \"</code>\\n\"+\n     \"</div>\"}};\n\n  function display_loaded() {\n    const el = document.getElementById(\"1002\");\n    if (el != null) {\n      el.textContent = \"BokehJS is loading...\";\n    }\n    if (root.Bokeh !== undefined) {\n      if (el != null) {\n        el.textContent = \"BokehJS \" + root.Bokeh.version + \" successfully loaded.\";\n      }\n    } else if (Date.now() < root._bokeh_timeout) {\n      setTimeout(display_loaded, 100)\n    }\n  }\n\n  function run_callbacks() {\n    try {\n      root._bokeh_onload_callbacks.forEach(function(callback) {\n        if (callback != null)\n          callback();\n      });\n    } finally {\n      delete root._bokeh_onload_callbacks\n    }\n    console.debug(\"Bokeh: all callbacks have finished\");\n  }\n\n  function load_libs(css_urls, js_urls, callback) {\n    if (css_urls == null) css_urls = [];\n    if (js_urls == null) js_urls = [];\n\n    root._bokeh_onload_callbacks.push(callback);\n    if (root._bokeh_is_loading > 0) {\n      console.debug(\"Bokeh: BokehJS is being loaded, scheduling callback at\", now());\n      return null;\n    }\n    if (js_urls == null || js_urls.length === 0) {\n      run_callbacks();\n      return null;\n    }\n    console.debug(\"Bokeh: BokehJS not loaded, scheduling load and callback at\", now());\n    root._bokeh_is_loading = css_urls.length + js_urls.length;\n\n    function on_load() {\n      root._bokeh_is_loading--;\n      if (root._bokeh_is_loading === 0) {\n        console.debug(\"Bokeh: all BokehJS libraries/stylesheets loaded\");\n        run_callbacks()\n      }\n    }\n\n    function on_error(url) {\n      console.error(\"failed to load \" + url);\n    }\n\n    for (let i = 0; i < css_urls.length; i++) {\n      const url = css_urls[i];\n      const element = document.createElement(\"link\");\n      element.onload = on_load;\n      element.onerror = on_error.bind(null, url);\n      element.rel = \"stylesheet\";\n      element.type = \"text/css\";\n      element.href = url;\n      console.debug(\"Bokeh: injecting link tag for BokehJS stylesheet: \", url);\n      document.body.appendChild(element);\n    }\n\n    for (let i = 0; i < js_urls.length; i++) {\n      const url = js_urls[i];\n      const element = document.createElement('script');\n      element.onload = on_load;\n      element.onerror = on_error.bind(null, url);\n      element.async = false;\n      element.src = url;\n      console.debug(\"Bokeh: injecting script tag for BokehJS library: \", url);\n      document.head.appendChild(element);\n    }\n  };\n\n  function inject_raw_css(css) {\n    const element = document.createElement(\"style\");\n    element.appendChild(document.createTextNode(css));\n    document.body.appendChild(element);\n  }\n\n  const js_urls = [\"https://cdn.bokeh.org/bokeh/release/bokeh-2.4.3.min.js\", \"https://cdn.bokeh.org/bokeh/release/bokeh-gl-2.4.3.min.js\", \"https://cdn.bokeh.org/bokeh/release/bokeh-widgets-2.4.3.min.js\", \"https://cdn.bokeh.org/bokeh/release/bokeh-tables-2.4.3.min.js\", \"https://cdn.bokeh.org/bokeh/release/bokeh-mathjax-2.4.3.min.js\"];\n  const css_urls = [];\n\n  const inline_js = [    function(Bokeh) {\n      Bokeh.set_log_level(\"info\");\n    },\nfunction(Bokeh) {\n    }\n  ];\n\n  function run_inline_js() {\n    if (root.Bokeh !== undefined || force === true) {\n          for (let i = 0; i < inline_js.length; i++) {\n      inline_js[i].call(root, root.Bokeh);\n    }\nif (force === true) {\n        display_loaded();\n      }} else if (Date.now() < root._bokeh_timeout) {\n      setTimeout(run_inline_js, 100);\n    } else if (!root._bokeh_failed_load) {\n      console.log(\"Bokeh: BokehJS failed to load within specified timeout.\");\n      root._bokeh_failed_load = true;\n    } else if (force !== true) {\n      const cell = $(document.getElementById(\"1002\")).parents('.cell').data().cell;\n      cell.output_area.append_execute_result(NB_LOAD_WARNING)\n    }\n  }\n\n  if (root._bokeh_is_loading === 0) {\n    console.debug(\"Bokeh: BokehJS loaded, going straight to plotting\");\n    run_inline_js();\n  } else {\n    load_libs(css_urls, js_urls, function() {\n      console.debug(\"Bokeh: BokehJS plotting callback run at\", now());\n      run_inline_js();\n    });\n  }\n}(window));"
     },
     "metadata": {},
     "output_type": "display_data"
    }
   ],
   "source": [
    "from ipywidgets import interact\n",
    "import numpy as np\n",
    "import pandas as pd\n",
    "import csv\n",
    "from IPython.display import Image\n",
    "\n",
    "\n",
    "import bokeh\n",
    "from bokeh.io import push_notebook, show, output_notebook\n",
    "from bokeh.plotting import figure\n",
    "from bokeh.models.glyphs import Patch\n",
    "output_notebook()\n",
    "\n"
   ]
  },
  {
   "cell_type": "markdown",
   "metadata": {},
   "source": [
    "# Modèle d'atmosphère\n",
    "\n",
    "On considère un modèle d'atmosphère dans lequel la première couche (troposphère) est une atmosphère adiabatique et la deuxième couche (stratosphère) une atmosphère isotherme.\n",
    "\n",
    "Au sol, on a $p_0=10^5\\;$Pa et une densité de l'air $\\rho_0=1.23\\;$kg.m$^{-3}$. L'air est un gaz parfait de coefficient $\\gamma =1.4$. \n",
    "\n",
    "La transition se fait à $h_\\text{trans}$\n",
    "\n",
    "La pression et la masse volumique varient avec l'altitude $h$ selon  $d p = -\\rho g\\,d h$.\n",
    "\n",
    "La loi des gaz parfait se réécrit\n",
    "    \n",
    "$$T=\\frac{pM}{R\\rho}$$\n",
    "\n",
    "La portion adiabatique impose\n",
    "\n",
    "$$     p\\rho^{-\\gamma} = \\text{cte}=p_0\\rho_0^{-\\gamma}\\quad\\Longrightarrow\\quad \\rho=\\rho_0\n",
    "        \\left(\\frac{p}{p_0}\\right)^{\\frac{1}{\\gamma}}$$\n",
    "        \n",
    "$$       d p = -\\rho_0 g \\left(\\frac{p}{p_0}\\right)^{1/\\gamma} d h$$\n",
    "\n",
    "$$      p_\\text{tropo}(h) = p_0 \\left(1 - \\frac{\\gamma - 1}{\\gamma}\\frac{\\rho_0g}{p_0}h\\right)^\\frac{\\gamma}{\\gamma - 1} = p_0 \\left(1-\\frac{h}{h_0}\\right)^\\frac{\\gamma}{\\gamma - 1}$$\n",
    "     \n",
    "$$      h_0 = \\frac{\\gamma}{\\gamma - 1}\\frac{p_0}{\\rho_0 g}$$    \n",
    "\n",
    "Et dans la troposphère, on trouve aussi \n",
    "\n",
    "$$T_\\text{tropo}=T_0\\left(1-\\frac{h}{h_0}\\right)$$"
   ]
  },
  {
   "cell_type": "code",
   "execution_count": 3,
   "metadata": {},
   "outputs": [],
   "source": [
    "#Constante des gaz parfaite et données au sol\n",
    "R=8.314\n",
    "p0=10**5\n",
    "rho0=1.23\n",
    "gamma=1.4\n",
    "T0=300\n",
    "g=9.81"
   ]
  },
  {
   "cell_type": "code",
   "execution_count": 4,
   "metadata": {},
   "outputs": [],
   "source": [
    "h0=(gamma/(gamma-1))*p0/(g*rho0)"
   ]
  },
  {
   "cell_type": "code",
   "execution_count": 7,
   "metadata": {},
   "outputs": [
    {
     "data": {
      "text/plain": [
       "29.006406272013795"
      ]
     },
     "execution_count": 7,
     "metadata": {},
     "output_type": "execute_result"
    }
   ],
   "source": [
    "h0/1000 # h0 en km"
   ]
  },
  {
   "cell_type": "code",
   "execution_count": 23,
   "metadata": {},
   "outputs": [],
   "source": [
    "def ptropo(h):\n",
    "    ptro=p0*(1-h/h0)**(gamma/(gamma-1))\n",
    "    return(ptro)\n",
    "\n",
    "def Ttropo(h):\n",
    "    ttro = T0*(1-h/h0)\n",
    "    return(ttro)"
   ]
  },
  {
   "cell_type": "code",
   "execution_count": 12,
   "metadata": {},
   "outputs": [],
   "source": [
    "h1 = np.linspace(0,29,291)"
   ]
  },
  {
   "cell_type": "code",
   "execution_count": 22,
   "metadata": {
    "scrolled": false
   },
   "outputs": [
    {
     "data": {
      "text/html": [
       "\n",
       "  <div class=\"bk-root\" id=\"86b79861-6a94-4374-875d-7b203917df52\" data-root-id=\"1817\"></div>\n"
      ]
     },
     "metadata": {},
     "output_type": "display_data"
    },
    {
     "data": {
      "application/javascript": [
       "(function(root) {\n",
       "  function embed_document(root) {\n",
       "  const docs_json = {\"3632e634-538c-4507-ad83-862dd47cf477\":{\"defs\":[],\"roots\":{\"references\":[{\"attributes\":{\"below\":[{\"id\":\"1828\"}],\"center\":[{\"id\":\"1831\"},{\"id\":\"1835\"}],\"height\":400,\"left\":[{\"id\":\"1832\"}],\"renderers\":[{\"id\":\"1854\"}],\"title\":{\"id\":\"1818\"},\"toolbar\":{\"id\":\"1843\"},\"x_range\":{\"id\":\"1820\"},\"x_scale\":{\"id\":\"1824\"},\"y_range\":{\"id\":\"1822\"},\"y_scale\":{\"id\":\"1826\"}},\"id\":\"1817\",\"subtype\":\"Figure\",\"type\":\"Plot\"},{\"attributes\":{\"data\":{\"x\":{\"__ndarray__\":\"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\",\"dtype\":\"float64\",\"order\":\"little\",\"shape\":[291]},\"y\":{\"__ndarray__\":\"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\",\"dtype\":\"float64\",\"order\":\"little\",\"shape\":[291]}},\"selected\":{\"id\":\"1924\"},\"selection_policy\":{\"id\":\"1923\"}},\"id\":\"1850\",\"type\":\"ColumnDataSource\"},{\"attributes\":{\"source\":{\"id\":\"1850\"}},\"id\":\"1855\",\"type\":\"CDSView\"},{\"attributes\":{},\"id\":\"1837\",\"type\":\"WheelZoomTool\"},{\"attributes\":{\"coordinates\":null,\"data_source\":{\"id\":\"1850\"},\"glyph\":{\"id\":\"1851\"},\"group\":null,\"hover_glyph\":null,\"muted_glyph\":{\"id\":\"1853\"},\"nonselection_glyph\":{\"id\":\"1852\"},\"view\":{\"id\":\"1855\"}},\"id\":\"1854\",\"type\":\"GlyphRenderer\"},{\"attributes\":{},\"id\":\"1841\",\"type\":\"HelpTool\"},{\"attributes\":{},\"id\":\"1836\",\"type\":\"PanTool\"},{\"attributes\":{},\"id\":\"1921\",\"type\":\"BasicTickFormatter\"},{\"attributes\":{\"overlay\":{\"id\":\"1842\"}},\"id\":\"1838\",\"type\":\"BoxZoomTool\"},{\"attributes\":{},\"id\":\"1839\",\"type\":\"SaveTool\"},{\"attributes\":{},\"id\":\"1840\",\"type\":\"ResetTool\"},{\"attributes\":{},\"id\":\"1923\",\"type\":\"UnionRenderers\"},{\"attributes\":{\"axis\":{\"id\":\"1832\"},\"coordinates\":null,\"dimension\":1,\"group\":null,\"ticker\":null},\"id\":\"1835\",\"type\":\"Grid\"},{\"attributes\":{},\"id\":\"1826\",\"type\":\"LinearScale\"},{\"attributes\":{},\"id\":\"1924\",\"type\":\"Selection\"},{\"attributes\":{\"bottom_units\":\"screen\",\"coordinates\":null,\"fill_alpha\":0.5,\"fill_color\":\"lightgrey\",\"group\":null,\"left_units\":\"screen\",\"level\":\"overlay\",\"line_alpha\":1.0,\"line_color\":\"black\",\"line_dash\":[4,4],\"line_width\":2,\"right_units\":\"screen\",\"syncable\":false,\"top_units\":\"screen\"},\"id\":\"1842\",\"type\":\"BoxAnnotation\"},{\"attributes\":{\"tools\":[{\"id\":\"1836\"},{\"id\":\"1837\"},{\"id\":\"1838\"},{\"id\":\"1839\"},{\"id\":\"1840\"},{\"id\":\"1841\"}]},\"id\":\"1843\",\"type\":\"Toolbar\"},{\"attributes\":{},\"id\":\"1829\",\"type\":\"BasicTicker\"},{\"attributes\":{},\"id\":\"1820\",\"type\":\"DataRange1d\"},{\"attributes\":{\"axis\":{\"id\":\"1828\"},\"coordinates\":null,\"group\":null,\"ticker\":null},\"id\":\"1831\",\"type\":\"Grid\"},{\"attributes\":{},\"id\":\"1822\",\"type\":\"DataRange1d\"},{\"attributes\":{\"coordinates\":null,\"group\":null,\"text\":\"\\u00e9volution de la pression dans le mod\\u00e8le adiabatique\"},\"id\":\"1818\",\"type\":\"Title\"},{\"attributes\":{},\"id\":\"1833\",\"type\":\"BasicTicker\"},{\"attributes\":{\"line_alpha\":0.1,\"line_color\":\"darkcyan\",\"line_width\":4,\"x\":{\"field\":\"x\"},\"y\":{\"field\":\"y\"}},\"id\":\"1852\",\"type\":\"Line\"},{\"attributes\":{\"line_alpha\":0.2,\"line_color\":\"darkcyan\",\"line_width\":4,\"x\":{\"field\":\"x\"},\"y\":{\"field\":\"y\"}},\"id\":\"1853\",\"type\":\"Line\"},{\"attributes\":{},\"id\":\"1922\",\"type\":\"AllLabels\"},{\"attributes\":{\"line_color\":\"darkcyan\",\"line_width\":4,\"x\":{\"field\":\"x\"},\"y\":{\"field\":\"y\"}},\"id\":\"1851\",\"type\":\"Line\"},{\"attributes\":{\"axis_label\":\"pression (bar)\",\"coordinates\":null,\"formatter\":{\"id\":\"1918\"},\"group\":null,\"major_label_policy\":{\"id\":\"1919\"},\"ticker\":{\"id\":\"1833\"}},\"id\":\"1832\",\"type\":\"LinearAxis\"},{\"attributes\":{},\"id\":\"1918\",\"type\":\"BasicTickFormatter\"},{\"attributes\":{},\"id\":\"1824\",\"type\":\"LinearScale\"},{\"attributes\":{},\"id\":\"1919\",\"type\":\"AllLabels\"},{\"attributes\":{\"axis_label\":\"altitude (km)\",\"coordinates\":null,\"formatter\":{\"id\":\"1921\"},\"group\":null,\"major_label_policy\":{\"id\":\"1922\"},\"ticker\":{\"id\":\"1829\"}},\"id\":\"1828\",\"type\":\"LinearAxis\"}],\"root_ids\":[\"1817\"]},\"title\":\"Bokeh Application\",\"version\":\"2.4.3\"}};\n",
       "  const render_items = [{\"docid\":\"3632e634-538c-4507-ad83-862dd47cf477\",\"root_ids\":[\"1817\"],\"roots\":{\"1817\":\"86b79861-6a94-4374-875d-7b203917df52\"}}];\n",
       "  root.Bokeh.embed.embed_items_notebook(docs_json, render_items);\n",
       "  }\n",
       "  if (root.Bokeh !== undefined) {\n",
       "    embed_document(root);\n",
       "  } else {\n",
       "    let attempts = 0;\n",
       "    const timer = setInterval(function(root) {\n",
       "      if (root.Bokeh !== undefined) {\n",
       "        clearInterval(timer);\n",
       "        embed_document(root);\n",
       "      } else {\n",
       "        attempts++;\n",
       "        if (attempts > 100) {\n",
       "          clearInterval(timer);\n",
       "          console.log(\"Bokeh: ERROR: Unable to run BokehJS code because BokehJS library is missing\");\n",
       "        }\n",
       "      }\n",
       "    }, 10, root)\n",
       "  }\n",
       "})(window);"
      ],
      "application/vnd.bokehjs_exec.v0+json": ""
     },
     "metadata": {
      "application/vnd.bokehjs_exec.v0+json": {
       "id": "1817"
      }
     },
     "output_type": "display_data"
    }
   ],
   "source": [
    "f=figure(title=\"évolution de la pression dans le modèle adiabatique\",x_axis_label=\"altitude (km)\",\n",
    "         y_axis_label=\"pression (bar)\", plot_height=400, plot_width=600)\n",
    "f.line(h1,ptropo(h1*1000)/10**5,color='darkcyan',line_width=4)\n",
    "\n",
    "show(f)"
   ]
  },
  {
   "cell_type": "code",
   "execution_count": 25,
   "metadata": {},
   "outputs": [
    {
     "data": {
      "text/html": [
       "\n",
       "  <div class=\"bk-root\" id=\"e5fbc04d-cf8f-4f47-95d9-848fde45cc10\" data-root-id=\"2009\"></div>\n"
      ]
     },
     "metadata": {},
     "output_type": "display_data"
    },
    {
     "data": {
      "application/javascript": [
       "(function(root) {\n",
       "  function embed_document(root) {\n",
       "  const docs_json = {\"174bec7f-87c4-431e-a925-9e3551d622d8\":{\"defs\":[],\"roots\":{\"references\":[{\"attributes\":{\"below\":[{\"id\":\"2020\"}],\"center\":[{\"id\":\"2023\"},{\"id\":\"2027\"}],\"height\":400,\"left\":[{\"id\":\"2024\"}],\"renderers\":[{\"id\":\"2046\"}],\"title\":{\"id\":\"2010\"},\"toolbar\":{\"id\":\"2035\"},\"x_range\":{\"id\":\"2012\"},\"x_scale\":{\"id\":\"2016\"},\"y_range\":{\"id\":\"2014\"},\"y_scale\":{\"id\":\"2018\"}},\"id\":\"2009\",\"subtype\":\"Figure\",\"type\":\"Plot\"},{\"attributes\":{\"axis_label\":\"Temp\\u00e9rature (K)\",\"coordinates\":null,\"formatter\":{\"id\":\"2120\"},\"group\":null,\"major_label_policy\":{\"id\":\"2121\"},\"ticker\":{\"id\":\"2025\"}},\"id\":\"2024\",\"type\":\"LinearAxis\"},{\"attributes\":{},\"id\":\"2120\",\"type\":\"BasicTickFormatter\"},{\"attributes\":{},\"id\":\"2032\",\"type\":\"ResetTool\"},{\"attributes\":{},\"id\":\"2123\",\"type\":\"BasicTickFormatter\"},{\"attributes\":{},\"id\":\"2029\",\"type\":\"WheelZoomTool\"},{\"attributes\":{},\"id\":\"2125\",\"type\":\"UnionRenderers\"},{\"attributes\":{\"data\":{\"x\":{\"__ndarray__\":\"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\",\"dtype\":\"float64\",\"order\":\"little\",\"shape\":[291]},\"y\":{\"__ndarray__\":\"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\",\"dtype\":\"float64\",\"order\":\"little\",\"shape\":[291]}},\"selected\":{\"id\":\"2126\"},\"selection_policy\":{\"id\":\"2125\"}},\"id\":\"2042\",\"type\":\"ColumnDataSource\"},{\"attributes\":{},\"id\":\"2025\",\"type\":\"BasicTicker\"},{\"attributes\":{\"axis\":{\"id\":\"2024\"},\"coordinates\":null,\"dimension\":1,\"group\":null,\"ticker\":null},\"id\":\"2027\",\"type\":\"Grid\"},{\"attributes\":{},\"id\":\"2124\",\"type\":\"AllLabels\"},{\"attributes\":{\"line_color\":\"darkcyan\",\"line_width\":4,\"x\":{\"field\":\"x\"},\"y\":{\"field\":\"y\"}},\"id\":\"2043\",\"type\":\"Line\"},{\"attributes\":{},\"id\":\"2031\",\"type\":\"SaveTool\"},{\"attributes\":{},\"id\":\"2121\",\"type\":\"AllLabels\"},{\"attributes\":{\"tools\":[{\"id\":\"2028\"},{\"id\":\"2029\"},{\"id\":\"2030\"},{\"id\":\"2031\"},{\"id\":\"2032\"},{\"id\":\"2033\"}]},\"id\":\"2035\",\"type\":\"Toolbar\"},{\"attributes\":{},\"id\":\"2012\",\"type\":\"DataRange1d\"},{\"attributes\":{\"source\":{\"id\":\"2042\"}},\"id\":\"2047\",\"type\":\"CDSView\"},{\"attributes\":{},\"id\":\"2028\",\"type\":\"PanTool\"},{\"attributes\":{\"line_alpha\":0.2,\"line_color\":\"darkcyan\",\"line_width\":4,\"x\":{\"field\":\"x\"},\"y\":{\"field\":\"y\"}},\"id\":\"2045\",\"type\":\"Line\"},{\"attributes\":{\"overlay\":{\"id\":\"2034\"}},\"id\":\"2030\",\"type\":\"BoxZoomTool\"},{\"attributes\":{},\"id\":\"2018\",\"type\":\"LinearScale\"},{\"attributes\":{\"axis_label\":\"altitude (km)\",\"coordinates\":null,\"formatter\":{\"id\":\"2123\"},\"group\":null,\"major_label_policy\":{\"id\":\"2124\"},\"ticker\":{\"id\":\"2021\"}},\"id\":\"2020\",\"type\":\"LinearAxis\"},{\"attributes\":{\"coordinates\":null,\"data_source\":{\"id\":\"2042\"},\"glyph\":{\"id\":\"2043\"},\"group\":null,\"hover_glyph\":null,\"muted_glyph\":{\"id\":\"2045\"},\"nonselection_glyph\":{\"id\":\"2044\"},\"view\":{\"id\":\"2047\"}},\"id\":\"2046\",\"type\":\"GlyphRenderer\"},{\"attributes\":{\"coordinates\":null,\"group\":null,\"text\":\"\\u00e9volution de la temp\\u00e9rature dans le mod\\u00e8le adiabatique\"},\"id\":\"2010\",\"type\":\"Title\"},{\"attributes\":{},\"id\":\"2021\",\"type\":\"BasicTicker\"},{\"attributes\":{},\"id\":\"2014\",\"type\":\"DataRange1d\"},{\"attributes\":{\"axis\":{\"id\":\"2020\"},\"coordinates\":null,\"group\":null,\"ticker\":null},\"id\":\"2023\",\"type\":\"Grid\"},{\"attributes\":{},\"id\":\"2016\",\"type\":\"LinearScale\"},{\"attributes\":{},\"id\":\"2126\",\"type\":\"Selection\"},{\"attributes\":{},\"id\":\"2033\",\"type\":\"HelpTool\"},{\"attributes\":{\"bottom_units\":\"screen\",\"coordinates\":null,\"fill_alpha\":0.5,\"fill_color\":\"lightgrey\",\"group\":null,\"left_units\":\"screen\",\"level\":\"overlay\",\"line_alpha\":1.0,\"line_color\":\"black\",\"line_dash\":[4,4],\"line_width\":2,\"right_units\":\"screen\",\"syncable\":false,\"top_units\":\"screen\"},\"id\":\"2034\",\"type\":\"BoxAnnotation\"},{\"attributes\":{\"line_alpha\":0.1,\"line_color\":\"darkcyan\",\"line_width\":4,\"x\":{\"field\":\"x\"},\"y\":{\"field\":\"y\"}},\"id\":\"2044\",\"type\":\"Line\"}],\"root_ids\":[\"2009\"]},\"title\":\"Bokeh Application\",\"version\":\"2.4.3\"}};\n",
       "  const render_items = [{\"docid\":\"174bec7f-87c4-431e-a925-9e3551d622d8\",\"root_ids\":[\"2009\"],\"roots\":{\"2009\":\"e5fbc04d-cf8f-4f47-95d9-848fde45cc10\"}}];\n",
       "  root.Bokeh.embed.embed_items_notebook(docs_json, render_items);\n",
       "  }\n",
       "  if (root.Bokeh !== undefined) {\n",
       "    embed_document(root);\n",
       "  } else {\n",
       "    let attempts = 0;\n",
       "    const timer = setInterval(function(root) {\n",
       "      if (root.Bokeh !== undefined) {\n",
       "        clearInterval(timer);\n",
       "        embed_document(root);\n",
       "      } else {\n",
       "        attempts++;\n",
       "        if (attempts > 100) {\n",
       "          clearInterval(timer);\n",
       "          console.log(\"Bokeh: ERROR: Unable to run BokehJS code because BokehJS library is missing\");\n",
       "        }\n",
       "      }\n",
       "    }, 10, root)\n",
       "  }\n",
       "})(window);"
      ],
      "application/vnd.bokehjs_exec.v0+json": ""
     },
     "metadata": {
      "application/vnd.bokehjs_exec.v0+json": {
       "id": "2009"
      }
     },
     "output_type": "display_data"
    }
   ],
   "source": [
    "f=figure(title=\"évolution de la température dans le modèle adiabatique\",x_axis_label=\"altitude (km)\",\n",
    "         y_axis_label=\"Température (K)\", plot_height=400, plot_width=600)\n",
    "f.line(h1,Ttropo(h1*1000),color='darkcyan',line_width=4)\n",
    "\n",
    "show(f)"
   ]
  },
  {
   "cell_type": "markdown",
   "metadata": {},
   "source": [
    "### Portion isotherme\n",
    "\n",
    "Dans la portion isotherme, \n",
    "\n",
    "$$ d p=-\\frac{Mpg}{RT_\\text{strat}}d h$$\n",
    "\n",
    "$$   \\ln(p) = -\\frac{Mg}{RT_\\text{strat}}h + A$$\n",
    "\n",
    "$$p_\\text{strat} = B e^{\\left( -\\frac{Mg}{RT_\\text{strat}}h\\right)}$$\n",
    "      \n",
    "Le modèle s'applique à partir de $h_\\text{trans}$, transition entre la troposphère et la stratosphère (entre 8 et 18 km suivant la lattitude). \n",
    "\n",
    "La pression et la températures sont continues, on obtient $p_\\text{trans} = p_\\text{tropo} (h_\\text{trans})$, et $T_\\text{strat} = T_\\text{tropo} (h_\\text{trans})$\n",
    "\n",
    "$$\\frac{M}{R} = \\frac{T \\rho}{p} =\\frac{T_0\\rho_0}{p_0}$$\n",
    "\n",
    "$$p_\\text{strat} = B e^{\\left( -\\frac{T_0\\rho_0 g}{p_0 T_\\text{strat}}h\\right)}$$\n"
   ]
  },
  {
   "cell_type": "code",
   "execution_count": 42,
   "metadata": {},
   "outputs": [],
   "source": [
    "def pstrat(h):\n",
    "    pstr= B * np.e**(-(T0*rho0*g*h)/(p0*Tstrat))\n",
    "    return(pstr)"
   ]
  },
  {
   "cell_type": "markdown",
   "metadata": {},
   "source": [
    "### Comparaison du modèle adiabatique et isotherme depuis le sol "
   ]
  },
  {
   "cell_type": "code",
   "execution_count": 51,
   "metadata": {},
   "outputs": [],
   "source": [
    "htrans = 0\n",
    "ptrans = ptropo(htrans)\n",
    "Tstrat = Ttropo(htrans)\n",
    "B = ptrans*np.e**(T0*rho0 *g *htrans/(p0*Tstrat))"
   ]
  },
  {
   "cell_type": "code",
   "execution_count": 52,
   "metadata": {},
   "outputs": [
    {
     "data": {
      "text/html": [
       "\n",
       "  <div class=\"bk-root\" id=\"3df96f7a-6a29-4839-bb6a-97a3b8579179\" data-root-id=\"3179\"></div>\n"
      ]
     },
     "metadata": {},
     "output_type": "display_data"
    },
    {
     "data": {
      "application/javascript": [
       "(function(root) {\n",
       "  function embed_document(root) {\n",
       "  const docs_json = {\"5097bd90-5eec-4111-87e2-6e7b24e1d6cb\":{\"defs\":[],\"roots\":{\"references\":[{\"attributes\":{\"below\":[{\"id\":\"3190\"}],\"center\":[{\"id\":\"3193\"},{\"id\":\"3197\"},{\"id\":\"3228\"}],\"height\":400,\"left\":[{\"id\":\"3194\"}],\"renderers\":[{\"id\":\"3216\"},{\"id\":\"3234\"}],\"title\":{\"id\":\"3180\"},\"toolbar\":{\"id\":\"3205\"},\"x_range\":{\"id\":\"3182\"},\"x_scale\":{\"id\":\"3186\"},\"y_range\":{\"id\":\"3184\"},\"y_scale\":{\"id\":\"3188\"}},\"id\":\"3179\",\"subtype\":\"Figure\",\"type\":\"Plot\"},{\"attributes\":{\"label\":{\"value\":\"mod\\u00e8le adiabatique\"},\"renderers\":[{\"id\":\"3216\"}]},\"id\":\"3229\",\"type\":\"LegendItem\"},{\"attributes\":{},\"id\":\"3195\",\"type\":\"BasicTicker\"},{\"attributes\":{},\"id\":\"3220\",\"type\":\"BasicTickFormatter\"},{\"attributes\":{\"axis\":{\"id\":\"3194\"},\"coordinates\":null,\"dimension\":1,\"group\":null,\"ticker\":null},\"id\":\"3197\",\"type\":\"Grid\"},{\"attributes\":{},\"id\":\"3221\",\"type\":\"AllLabels\"},{\"attributes\":{\"axis_label\":\"pression (bar)\",\"coordinates\":null,\"formatter\":{\"id\":\"3220\"},\"group\":null,\"major_label_policy\":{\"id\":\"3221\"},\"ticker\":{\"id\":\"3195\"}},\"id\":\"3194\",\"type\":\"LinearAxis\"},{\"attributes\":{},\"id\":\"3203\",\"type\":\"HelpTool\"},{\"attributes\":{},\"id\":\"3223\",\"type\":\"BasicTickFormatter\"},{\"attributes\":{\"bottom_units\":\"screen\",\"coordinates\":null,\"fill_alpha\":0.5,\"fill_color\":\"lightgrey\",\"group\":null,\"left_units\":\"screen\",\"level\":\"overlay\",\"line_alpha\":1.0,\"line_color\":\"black\",\"line_dash\":[4,4],\"line_width\":2,\"right_units\":\"screen\",\"syncable\":false,\"top_units\":\"screen\"},\"id\":\"3204\",\"type\":\"BoxAnnotation\"},{\"attributes\":{\"axis_label\":\"altitude (km)\",\"coordinates\":null,\"formatter\":{\"id\":\"3223\"},\"group\":null,\"major_label_policy\":{\"id\":\"3224\"},\"ticker\":{\"id\":\"3191\"}},\"id\":\"3190\",\"type\":\"LinearAxis\"},{\"attributes\":{},\"id\":\"3202\",\"type\":\"ResetTool\"},{\"attributes\":{},\"id\":\"3198\",\"type\":\"PanTool\"},{\"attributes\":{},\"id\":\"3188\",\"type\":\"LinearScale\"},{\"attributes\":{},\"id\":\"3224\",\"type\":\"AllLabels\"},{\"attributes\":{\"axis\":{\"id\":\"3190\"},\"coordinates\":null,\"group\":null,\"ticker\":null},\"id\":\"3193\",\"type\":\"Grid\"},{\"attributes\":{\"coordinates\":null,\"group\":null,\"items\":[{\"id\":\"3229\"},{\"id\":\"3248\"}]},\"id\":\"3228\",\"type\":\"Legend\"},{\"attributes\":{\"line_alpha\":0.2,\"line_color\":\"darkcyan\",\"line_width\":4,\"x\":{\"field\":\"x\"},\"y\":{\"field\":\"y\"}},\"id\":\"3215\",\"type\":\"Line\"},{\"attributes\":{\"line_alpha\":0.1,\"line_color\":\"darkcyan\",\"line_width\":4,\"x\":{\"field\":\"x\"},\"y\":{\"field\":\"y\"}},\"id\":\"3214\",\"type\":\"Line\"},{\"attributes\":{},\"id\":\"3201\",\"type\":\"SaveTool\"},{\"attributes\":{\"line_color\":\"darkorange\",\"line_width\":4,\"x\":{\"field\":\"x\"},\"y\":{\"field\":\"y\"}},\"id\":\"3231\",\"type\":\"Line\"},{\"attributes\":{},\"id\":\"3182\",\"type\":\"DataRange1d\"},{\"attributes\":{\"data\":{\"x\":{\"__ndarray__\":\"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\",\"dtype\":\"float64\",\"order\":\"little\",\"shape\":[291]},\"y\":{\"__ndarray__\":\"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\",\"dtype\":\"float64\",\"order\":\"little\",\"shape\":[291]}},\"selected\":{\"id\":\"3226\"},\"selection_policy\":{\"id\":\"3225\"}},\"id\":\"3212\",\"type\":\"ColumnDataSource\"},{\"attributes\":{\"overlay\":{\"id\":\"3204\"}},\"id\":\"3200\",\"type\":\"BoxZoomTool\"},{\"attributes\":{\"data\":{\"x\":{\"__ndarray__\":\"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\",\"dtype\":\"float64\",\"order\":\"little\",\"shape\":[291]},\"y\":{\"__ndarray__\":\"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\",\"dtype\":\"float64\",\"order\":\"little\",\"shape\":[291]}},\"selected\":{\"id\":\"3246\"},\"selection_policy\":{\"id\":\"3245\"}},\"id\":\"3230\",\"type\":\"ColumnDataSource\"},{\"attributes\":{},\"id\":\"3199\",\"type\":\"WheelZoomTool\"},{\"attributes\":{},\"id\":\"3184\",\"type\":\"DataRange1d\"},{\"attributes\":{},\"id\":\"3186\",\"type\":\"LinearScale\"},{\"attributes\":{},\"id\":\"3225\",\"type\":\"UnionRenderers\"},{\"attributes\":{\"coordinates\":null,\"group\":null,\"text\":\"\\u00e9volution de la pression\"},\"id\":\"3180\",\"type\":\"Title\"},{\"attributes\":{\"coordinates\":null,\"data_source\":{\"id\":\"3230\"},\"glyph\":{\"id\":\"3231\"},\"group\":null,\"hover_glyph\":null,\"muted_glyph\":{\"id\":\"3233\"},\"nonselection_glyph\":{\"id\":\"3232\"},\"view\":{\"id\":\"3235\"}},\"id\":\"3234\",\"type\":\"GlyphRenderer\"},{\"attributes\":{},\"id\":\"3191\",\"type\":\"BasicTicker\"},{\"attributes\":{},\"id\":\"3226\",\"type\":\"Selection\"},{\"attributes\":{\"source\":{\"id\":\"3230\"}},\"id\":\"3235\",\"type\":\"CDSView\"},{\"attributes\":{\"label\":{\"value\":\"mod\\u00e8le isotherme\"},\"renderers\":[{\"id\":\"3234\"}]},\"id\":\"3248\",\"type\":\"LegendItem\"},{\"attributes\":{\"tools\":[{\"id\":\"3198\"},{\"id\":\"3199\"},{\"id\":\"3200\"},{\"id\":\"3201\"},{\"id\":\"3202\"},{\"id\":\"3203\"}]},\"id\":\"3205\",\"type\":\"Toolbar\"},{\"attributes\":{\"line_alpha\":0.2,\"line_color\":\"darkorange\",\"line_width\":4,\"x\":{\"field\":\"x\"},\"y\":{\"field\":\"y\"}},\"id\":\"3233\",\"type\":\"Line\"},{\"attributes\":{\"line_alpha\":0.1,\"line_color\":\"darkorange\",\"line_width\":4,\"x\":{\"field\":\"x\"},\"y\":{\"field\":\"y\"}},\"id\":\"3232\",\"type\":\"Line\"},{\"attributes\":{\"line_color\":\"darkcyan\",\"line_width\":4,\"x\":{\"field\":\"x\"},\"y\":{\"field\":\"y\"}},\"id\":\"3213\",\"type\":\"Line\"},{\"attributes\":{},\"id\":\"3245\",\"type\":\"UnionRenderers\"},{\"attributes\":{},\"id\":\"3246\",\"type\":\"Selection\"},{\"attributes\":{\"coordinates\":null,\"data_source\":{\"id\":\"3212\"},\"glyph\":{\"id\":\"3213\"},\"group\":null,\"hover_glyph\":null,\"muted_glyph\":{\"id\":\"3215\"},\"nonselection_glyph\":{\"id\":\"3214\"},\"view\":{\"id\":\"3217\"}},\"id\":\"3216\",\"type\":\"GlyphRenderer\"},{\"attributes\":{\"source\":{\"id\":\"3212\"}},\"id\":\"3217\",\"type\":\"CDSView\"}],\"root_ids\":[\"3179\"]},\"title\":\"Bokeh Application\",\"version\":\"2.4.3\"}};\n",
       "  const render_items = [{\"docid\":\"5097bd90-5eec-4111-87e2-6e7b24e1d6cb\",\"root_ids\":[\"3179\"],\"roots\":{\"3179\":\"3df96f7a-6a29-4839-bb6a-97a3b8579179\"}}];\n",
       "  root.Bokeh.embed.embed_items_notebook(docs_json, render_items);\n",
       "  }\n",
       "  if (root.Bokeh !== undefined) {\n",
       "    embed_document(root);\n",
       "  } else {\n",
       "    let attempts = 0;\n",
       "    const timer = setInterval(function(root) {\n",
       "      if (root.Bokeh !== undefined) {\n",
       "        clearInterval(timer);\n",
       "        embed_document(root);\n",
       "      } else {\n",
       "        attempts++;\n",
       "        if (attempts > 100) {\n",
       "          clearInterval(timer);\n",
       "          console.log(\"Bokeh: ERROR: Unable to run BokehJS code because BokehJS library is missing\");\n",
       "        }\n",
       "      }\n",
       "    }, 10, root)\n",
       "  }\n",
       "})(window);"
      ],
      "application/vnd.bokehjs_exec.v0+json": ""
     },
     "metadata": {
      "application/vnd.bokehjs_exec.v0+json": {
       "id": "3179"
      }
     },
     "output_type": "display_data"
    }
   ],
   "source": [
    "f=figure(title=\"évolution de la pression\",x_axis_label=\"altitude (km)\",\n",
    "         y_axis_label=\"pression (bar)\", plot_height=400, plot_width=600)\n",
    "f.line(h1,ptropo(h1*1000)/10**5,color='darkcyan',line_width=4, legend_label=\"modèle adiabatique\")\n",
    "f.line(h1,pstrat(h1*1000)/10**5,color='darkorange',line_width=4, legend_label=\"modèle isotherme\")\n",
    "\n",
    "show(f)"
   ]
  },
  {
   "cell_type": "markdown",
   "metadata": {},
   "source": [
    "### transition adiabatique -> isotherme à htrans"
   ]
  },
  {
   "cell_type": "code",
   "execution_count": 68,
   "metadata": {},
   "outputs": [
    {
     "data": {
      "text/html": [
       "\n",
       "  <div class=\"bk-root\" id=\"d5b544e7-9e10-4065-ad2a-f9755ea22e62\" data-root-id=\"6601\"></div>\n"
      ]
     },
     "metadata": {},
     "output_type": "display_data"
    },
    {
     "data": {
      "application/javascript": [
       "(function(root) {\n",
       "  function embed_document(root) {\n",
       "  const docs_json = {\"2590ff75-230d-4c2a-a90f-e2eccedb85d0\":{\"defs\":[],\"roots\":{\"references\":[{\"attributes\":{\"below\":[{\"id\":\"6612\"}],\"center\":[{\"id\":\"6615\"},{\"id\":\"6619\"},{\"id\":\"6650\"}],\"height\":400,\"left\":[{\"id\":\"6616\"}],\"renderers\":[{\"id\":\"6638\"},{\"id\":\"6656\"},{\"id\":\"6674\"},{\"id\":\"6695\"}],\"title\":{\"id\":\"6602\"},\"toolbar\":{\"id\":\"6627\"},\"x_range\":{\"id\":\"6604\"},\"x_scale\":{\"id\":\"6608\"},\"y_range\":{\"id\":\"6606\"},\"y_scale\":{\"id\":\"6610\"}},\"id\":\"6601\",\"subtype\":\"Figure\",\"type\":\"Plot\"},{\"attributes\":{\"line_alpha\":0.1,\"line_color\":\"darkorange\",\"x\":{\"field\":\"x\"},\"y\":{\"field\":\"y\"}},\"id\":\"6672\",\"type\":\"Line\"},{\"attributes\":{\"line_alpha\":0.2,\"line_color\":\"darkorange\",\"line_width\":4,\"x\":{\"field\":\"x\"},\"y\":{\"field\":\"y\"}},\"id\":\"6694\",\"type\":\"Line\"},{\"attributes\":{\"line_color\":\"darkcyan\",\"x\":{\"field\":\"x\"},\"y\":{\"field\":\"y\"}},\"id\":\"6635\",\"type\":\"Line\"},{\"attributes\":{\"source\":{\"id\":\"6670\"}},\"id\":\"6675\",\"type\":\"CDSView\"},{\"attributes\":{\"coordinates\":null,\"group\":null,\"items\":[{\"id\":\"6651\"},{\"id\":\"6690\"}]},\"id\":\"6650\",\"type\":\"Legend\"},{\"attributes\":{},\"id\":\"6667\",\"type\":\"UnionRenderers\"},{\"attributes\":{},\"id\":\"6643\",\"type\":\"AllLabels\"},{\"attributes\":{},\"id\":\"6668\",\"type\":\"Selection\"},{\"attributes\":{\"source\":{\"id\":\"6652\"}},\"id\":\"6657\",\"type\":\"CDSView\"},{\"attributes\":{},\"id\":\"6606\",\"type\":\"DataRange1d\"},{\"attributes\":{},\"id\":\"6648\",\"type\":\"Selection\"},{\"attributes\":{\"coordinates\":null,\"data_source\":{\"id\":\"6652\"},\"glyph\":{\"id\":\"6653\"},\"group\":null,\"hover_glyph\":null,\"muted_glyph\":{\"id\":\"6655\"},\"nonselection_glyph\":{\"id\":\"6654\"},\"view\":{\"id\":\"6657\"}},\"id\":\"6656\",\"type\":\"GlyphRenderer\"},{\"attributes\":{\"axis_label\":\"altitude (km)\",\"coordinates\":null,\"formatter\":{\"id\":\"6645\"},\"group\":null,\"major_label_policy\":{\"id\":\"6646\"},\"ticker\":{\"id\":\"6613\"}},\"id\":\"6612\",\"type\":\"LinearAxis\"},{\"attributes\":{},\"id\":\"6604\",\"type\":\"DataRange1d\"},{\"attributes\":{\"tools\":[{\"id\":\"6620\"},{\"id\":\"6621\"},{\"id\":\"6622\"},{\"id\":\"6623\"},{\"id\":\"6624\"},{\"id\":\"6625\"}]},\"id\":\"6627\",\"type\":\"Toolbar\"},{\"attributes\":{\"data\":{\"x\":{\"__ndarray__\":\"AAAAAAAAAACamZmZmZm5P5qZmZmZmck/NDMzMzMz0z+amZmZmZnZPwAAAAAAAOA/NDMzMzMz4z9nZmZmZmbmP5qZmZmZmek/zczMzMzM7D8AAAAAAADwP5qZmZmZmfE/NDMzMzMz8z/NzMzMzMz0P2dmZmZmZvY/AAAAAAAA+D+amZmZmZn5PzQzMzMzM/s/zczMzMzM/D9nZmZmZmb+PwAAAAAAAABAzczMzMzMAECamZmZmZkBQGdmZmZmZgJANDMzMzMzA0AAAAAAAAAEQM3MzMzMzARAmpmZmZmZBUBnZmZmZmYGQDQzMzMzMwdAAAAAAAAACEDNzMzMzMwIQJqZmZmZmQlAZ2ZmZmZmCkA0MzMzMzMLQAAAAAAAAAxAzczMzMzMDECamZmZmZkNQGdmZmZmZg5ANDMzMzMzD0AAAAAAAAAQQGdmZmZmZhBAzczMzMzMEEAzMzMzMzMRQJqZmZmZmRFAAAAAAAAAEkBnZmZmZmYSQM3MzMzMzBJANDMzMzMzE0CamZmZmZkTQAAAAAAAABRAZ2ZmZmZmFEDNzMzMzMwUQDQzMzMzMxVAmpmZmZmZFUAAAAAAAAAWQGdmZmZmZhZAzczMzMzMFkA0MzMzMzMXQJqZmZmZmRdAAAAAAAAAGEBnZmZmZmYYQM3MzMzMzBhANDMzMzMzGUCamZmZmZkZQAAAAAAAABpAZ2ZmZmZmGkDNzMzMzMwaQDQzMzMzMxtAmpmZmZmZG0AAAAAAAAAcQGdmZmZmZhxAzczMzMzMHEA0MzMzMzMdQJqZmZmZmR1AAAAAAAAAHkBnZmZmZmYeQM3MzMzMzB5ANDMzMzMzH0CamZmZmZkfQAAAAAAAACBA\",\"dtype\":\"float64\",\"order\":\"little\",\"shape\":[81]},\"y\":{\"__ndarray__\":\"AAAAAAAA8D/mZ9v+k53vP8HcKfYAPO8/S6XwxUXb7j9W4rROYXvuP6/He3FSHO4/YtXKDxi+7T9MEagLsWDtP/FAmkccBO0/uCOpplio7D9WrV0MZU3sP5NAwlxA8+s/d+pifOmZ6z+wnU1QX0HrPzxuEr6g6eo/nM3Dq6yS6j8ex/b/gTzqP5o8w6Ef5+k/iiPEeISS6T9ewhdtrz7pP0TuX2ef6+g/MUnCUFOZ6D9FgOgSykfoP52KAJgC9+c/Y+i8yvum5z8/4lSWtFfnPz7JhOYrCec/6DaOp2C75j/hTTjGUW7mP8j6zy/+IeY/ejUo0mTW5T/MQpqbhIvlP4b2BXtcQeU/0vXRX+v35D8Q+us5MK/kPwQUyfkpZ+Q/Zu9lkNcf5D/rFkfvN9njP6I4eQhKk+M/t2qRzgxO4z+2cK00fwnjPxcBdC6gxeI/WAsVsG6C4j9e/kmu6T/iP2IPVh4Q/uE/QoEG9uC84T8v7LIrW3zhP+uFPbZ9POE/Y2oTjUf94D/D5Cyot77gP/S4DQDNgOA/pG3FjYZD4D+plu9K4wbgP/I/aGPEld8/AzKPeQQf3z8AAdfOhKneP8Qh3VpDNd4/LhpaFj7C3T+qGyL7clDdP/meJQTg39w/rAByLYNw3D/rHjJ0WgLcPxP4rtZjlds/YEpQVJ0p2z/NNJ3tBL/aP8nYPKSYVdo/Nv32elbt2T9XsrR1PIbZP9v2gJlIINk/I16J7Hi72D+Ctx52y1fYP6e2tT4+9dc/SJ3nT8+T1z/Y5XK0fDPXP2HvO3hE1NY/w6pNqCR21j/nSNpSGxnWP03qO4cmvdU/yE/1VURi1T+SjLLQcgjVP225SQqwr9Q/\",\"dtype\":\"float64\",\"order\":\"little\",\"shape\":[81]}},\"selected\":{\"id\":\"6668\"},\"selection_policy\":{\"id\":\"6667\"}},\"id\":\"6652\",\"type\":\"ColumnDataSource\"},{\"attributes\":{},\"id\":\"6610\",\"type\":\"LinearScale\"},{\"attributes\":{\"data\":{\"x\":{\"__ndarray__\":\"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\",\"dtype\":\"float64\",\"order\":\"little\",\"shape\":[291]},\"y\":{\"__ndarray__\":\"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\",\"dtype\":\"float64\",\"order\":\"little\",\"shape\":[291]}},\"selected\":{\"id\":\"6648\"},\"selection_policy\":{\"id\":\"6647\"}},\"id\":\"6634\",\"type\":\"ColumnDataSource\"},{\"attributes\":{\"line_alpha\":0.1,\"line_color\":\"darkcyan\",\"line_width\":4,\"x\":{\"field\":\"x\"},\"y\":{\"field\":\"y\"}},\"id\":\"6654\",\"type\":\"Line\"},{\"attributes\":{\"axis\":{\"id\":\"6612\"},\"coordinates\":null,\"group\":null,\"ticker\":null},\"id\":\"6615\",\"type\":\"Grid\"},{\"attributes\":{},\"id\":\"6642\",\"type\":\"BasicTickFormatter\"},{\"attributes\":{},\"id\":\"6645\",\"type\":\"BasicTickFormatter\"},{\"attributes\":{},\"id\":\"6613\",\"type\":\"BasicTicker\"},{\"attributes\":{},\"id\":\"6646\",\"type\":\"AllLabels\"},{\"attributes\":{\"line_color\":\"darkcyan\",\"line_width\":4,\"x\":{\"field\":\"x\"},\"y\":{\"field\":\"y\"}},\"id\":\"6653\",\"type\":\"Line\"},{\"attributes\":{\"data\":{\"x\":{\"__ndarray__\":\"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\",\"dtype\":\"float64\",\"order\":\"little\",\"shape\":[291]},\"y\":{\"__ndarray__\":\"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\",\"dtype\":\"float64\",\"order\":\"little\",\"shape\":[291]}},\"selected\":{\"id\":\"6688\"},\"selection_policy\":{\"id\":\"6687\"}},\"id\":\"6670\",\"type\":\"ColumnDataSource\"},{\"attributes\":{},\"id\":\"6647\",\"type\":\"UnionRenderers\"},{\"attributes\":{\"line_alpha\":0.2,\"line_color\":\"darkcyan\",\"line_width\":4,\"x\":{\"field\":\"x\"},\"y\":{\"field\":\"y\"}},\"id\":\"6655\",\"type\":\"Line\"},{\"attributes\":{\"line_alpha\":0.1,\"line_color\":\"darkorange\",\"line_width\":4,\"x\":{\"field\":\"x\"},\"y\":{\"field\":\"y\"}},\"id\":\"6693\",\"type\":\"Line\"},{\"attributes\":{},\"id\":\"6621\",\"type\":\"WheelZoomTool\"},{\"attributes\":{},\"id\":\"6710\",\"type\":\"UnionRenderers\"},{\"attributes\":{\"axis_label\":\"pression (bar)\",\"coordinates\":null,\"formatter\":{\"id\":\"6642\"},\"group\":null,\"major_label_policy\":{\"id\":\"6643\"},\"ticker\":{\"id\":\"6617\"}},\"id\":\"6616\",\"type\":\"LinearAxis\"},{\"attributes\":{\"axis\":{\"id\":\"6616\"},\"coordinates\":null,\"dimension\":1,\"group\":null,\"ticker\":null},\"id\":\"6619\",\"type\":\"Grid\"},{\"attributes\":{},\"id\":\"6617\",\"type\":\"BasicTicker\"},{\"attributes\":{\"bottom_units\":\"screen\",\"coordinates\":null,\"fill_alpha\":0.5,\"fill_color\":\"lightgrey\",\"group\":null,\"left_units\":\"screen\",\"level\":\"overlay\",\"line_alpha\":1.0,\"line_color\":\"black\",\"line_dash\":[4,4],\"line_width\":2,\"right_units\":\"screen\",\"syncable\":false,\"top_units\":\"screen\"},\"id\":\"6626\",\"type\":\"BoxAnnotation\"},{\"attributes\":{},\"id\":\"6711\",\"type\":\"Selection\"},{\"attributes\":{\"line_color\":\"darkorange\",\"line_width\":4,\"x\":{\"field\":\"x\"},\"y\":{\"field\":\"y\"}},\"id\":\"6692\",\"type\":\"Line\"},{\"attributes\":{},\"id\":\"6625\",\"type\":\"HelpTool\"},{\"attributes\":{},\"id\":\"6624\",\"type\":\"ResetTool\"},{\"attributes\":{\"label\":{\"value\":\"mod\\u00e8le isotherme\"},\"renderers\":[{\"id\":\"6674\"},{\"id\":\"6695\"}]},\"id\":\"6690\",\"type\":\"LegendItem\"},{\"attributes\":{},\"id\":\"6620\",\"type\":\"PanTool\"},{\"attributes\":{\"line_alpha\":0.1,\"line_color\":\"darkcyan\",\"x\":{\"field\":\"x\"},\"y\":{\"field\":\"y\"}},\"id\":\"6636\",\"type\":\"Line\"},{\"attributes\":{\"overlay\":{\"id\":\"6626\"}},\"id\":\"6622\",\"type\":\"BoxZoomTool\"},{\"attributes\":{},\"id\":\"6623\",\"type\":\"SaveTool\"},{\"attributes\":{\"source\":{\"id\":\"6634\"}},\"id\":\"6639\",\"type\":\"CDSView\"},{\"attributes\":{\"line_alpha\":0.2,\"line_color\":\"darkcyan\",\"x\":{\"field\":\"x\"},\"y\":{\"field\":\"y\"}},\"id\":\"6637\",\"type\":\"Line\"},{\"attributes\":{\"line_color\":\"darkorange\",\"x\":{\"field\":\"x\"},\"y\":{\"field\":\"y\"}},\"id\":\"6671\",\"type\":\"Line\"},{\"attributes\":{\"data\":{\"x\":{\"__ndarray__\":\"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\",\"dtype\":\"float64\",\"order\":\"little\",\"shape\":[211]},\"y\":{\"__ndarray__\":\"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\",\"dtype\":\"float64\",\"order\":\"little\",\"shape\":[211]}},\"selected\":{\"id\":\"6711\"},\"selection_policy\":{\"id\":\"6710\"}},\"id\":\"6691\",\"type\":\"ColumnDataSource\"},{\"attributes\":{},\"id\":\"6687\",\"type\":\"UnionRenderers\"},{\"attributes\":{},\"id\":\"6688\",\"type\":\"Selection\"},{\"attributes\":{\"coordinates\":null,\"group\":null,\"text\":\"\\u00e9volution de la pression\"},\"id\":\"6602\",\"type\":\"Title\"},{\"attributes\":{\"label\":{\"value\":\"mod\\u00e8le adiabatique\"},\"renderers\":[{\"id\":\"6638\"},{\"id\":\"6656\"}]},\"id\":\"6651\",\"type\":\"LegendItem\"},{\"attributes\":{\"source\":{\"id\":\"6691\"}},\"id\":\"6696\",\"type\":\"CDSView\"},{\"attributes\":{},\"id\":\"6608\",\"type\":\"LinearScale\"},{\"attributes\":{\"coordinates\":null,\"data_source\":{\"id\":\"6670\"},\"glyph\":{\"id\":\"6671\"},\"group\":null,\"hover_glyph\":null,\"muted_glyph\":{\"id\":\"6673\"},\"nonselection_glyph\":{\"id\":\"6672\"},\"view\":{\"id\":\"6675\"}},\"id\":\"6674\",\"type\":\"GlyphRenderer\"},{\"attributes\":{\"coordinates\":null,\"data_source\":{\"id\":\"6691\"},\"glyph\":{\"id\":\"6692\"},\"group\":null,\"hover_glyph\":null,\"muted_glyph\":{\"id\":\"6694\"},\"nonselection_glyph\":{\"id\":\"6693\"},\"view\":{\"id\":\"6696\"}},\"id\":\"6695\",\"type\":\"GlyphRenderer\"},{\"attributes\":{\"coordinates\":null,\"data_source\":{\"id\":\"6634\"},\"glyph\":{\"id\":\"6635\"},\"group\":null,\"hover_glyph\":null,\"muted_glyph\":{\"id\":\"6637\"},\"nonselection_glyph\":{\"id\":\"6636\"},\"view\":{\"id\":\"6639\"}},\"id\":\"6638\",\"type\":\"GlyphRenderer\"},{\"attributes\":{\"line_alpha\":0.2,\"line_color\":\"darkorange\",\"x\":{\"field\":\"x\"},\"y\":{\"field\":\"y\"}},\"id\":\"6673\",\"type\":\"Line\"}],\"root_ids\":[\"6601\"]},\"title\":\"Bokeh Application\",\"version\":\"2.4.3\"}};\n",
       "  const render_items = [{\"docid\":\"2590ff75-230d-4c2a-a90f-e2eccedb85d0\",\"root_ids\":[\"6601\"],\"roots\":{\"6601\":\"d5b544e7-9e10-4065-ad2a-f9755ea22e62\"}}];\n",
       "  root.Bokeh.embed.embed_items_notebook(docs_json, render_items);\n",
       "  }\n",
       "  if (root.Bokeh !== undefined) {\n",
       "    embed_document(root);\n",
       "  } else {\n",
       "    let attempts = 0;\n",
       "    const timer = setInterval(function(root) {\n",
       "      if (root.Bokeh !== undefined) {\n",
       "        clearInterval(timer);\n",
       "        embed_document(root);\n",
       "      } else {\n",
       "        attempts++;\n",
       "        if (attempts > 100) {\n",
       "          clearInterval(timer);\n",
       "          console.log(\"Bokeh: ERROR: Unable to run BokehJS code because BokehJS library is missing\");\n",
       "        }\n",
       "      }\n",
       "    }, 10, root)\n",
       "  }\n",
       "})(window);"
      ],
      "application/vnd.bokehjs_exec.v0+json": ""
     },
     "metadata": {
      "application/vnd.bokehjs_exec.v0+json": {
       "id": "6601"
      }
     },
     "output_type": "display_data"
    }
   ],
   "source": [
    "htrans = 8000\n",
    "ptrans = ptropo(htrans)\n",
    "Tstrat = Ttropo(htrans)\n",
    "B = ptrans*np.e**(T0*rho0 *g *htrans/(p0*Tstrat))\n",
    "\n",
    "h2 = np.array([h1i for h1i in h1 if h1i <= htrans/1000])\n",
    "h3 = np.array([h1i for h1i in h1 if h1i >= htrans/1000])\n",
    "\n",
    "f=figure(title=\"évolution de la pression\",x_axis_label=\"altitude (km)\",\n",
    "         y_axis_label=\"pression (bar)\", plot_height=400, plot_width=600)\n",
    "f.line(h1,ptropo(h1*1000)/10**5,color='darkcyan',line_width=1, legend_label=\"modèle adiabatique\")\n",
    "f.line(h2,ptropo(h2*1000)/10**5,color='darkcyan',line_width=4, legend_label=\"modèle adiabatique\")\n",
    "f.line(h1,pstrat(h1*1000)/10**5,color='darkorange',line_width=1, legend_label=\"modèle isotherme\")\n",
    "f.line(h3,pstrat(h3*1000)/10**5,color='darkorange',line_width=4, legend_label=\"modèle isotherme\")\n",
    "\n",
    "show(f)"
   ]
  },
  {
   "cell_type": "code",
   "execution_count": 65,
   "metadata": {},
   "outputs": [
    {
     "data": {
      "text/plain": [
       "array([ 0. ,  0.1,  0.2,  0.3,  0.4,  0.5,  0.6,  0.7,  0.8,  0.9,  1. ,\n",
       "        1.1,  1.2,  1.3,  1.4,  1.5,  1.6,  1.7,  1.8,  1.9,  2. ,  2.1,\n",
       "        2.2,  2.3,  2.4,  2.5,  2.6,  2.7,  2.8,  2.9,  3. ,  3.1,  3.2,\n",
       "        3.3,  3.4,  3.5,  3.6,  3.7,  3.8,  3.9,  4. ,  4.1,  4.2,  4.3,\n",
       "        4.4,  4.5,  4.6,  4.7,  4.8,  4.9,  5. ,  5.1,  5.2,  5.3,  5.4,\n",
       "        5.5,  5.6,  5.7,  5.8,  5.9,  6. ,  6.1,  6.2,  6.3,  6.4,  6.5,\n",
       "        6.6,  6.7,  6.8,  6.9,  7. ,  7.1,  7.2,  7.3,  7.4,  7.5,  7.6,\n",
       "        7.7,  7.8,  7.9,  8. ,  8.1,  8.2,  8.3,  8.4,  8.5,  8.6,  8.7,\n",
       "        8.8,  8.9,  9. ,  9.1,  9.2,  9.3,  9.4,  9.5,  9.6,  9.7,  9.8,\n",
       "        9.9, 10. , 10.1, 10.2, 10.3, 10.4, 10.5, 10.6, 10.7, 10.8, 10.9,\n",
       "       11. , 11.1, 11.2, 11.3, 11.4, 11.5, 11.6, 11.7, 11.8, 11.9, 12. ,\n",
       "       12.1, 12.2, 12.3, 12.4, 12.5, 12.6, 12.7, 12.8, 12.9, 13. , 13.1,\n",
       "       13.2, 13.3, 13.4, 13.5, 13.6, 13.7, 13.8, 13.9, 14. , 14.1, 14.2,\n",
       "       14.3, 14.4, 14.5, 14.6, 14.7, 14.8, 14.9, 15. , 15.1, 15.2, 15.3,\n",
       "       15.4, 15.5, 15.6, 15.7, 15.8, 15.9, 16. , 16.1, 16.2, 16.3, 16.4,\n",
       "       16.5, 16.6, 16.7, 16.8, 16.9, 17. , 17.1, 17.2, 17.3, 17.4, 17.5,\n",
       "       17.6, 17.7, 17.8, 17.9, 18. , 18.1, 18.2, 18.3, 18.4, 18.5, 18.6,\n",
       "       18.7, 18.8, 18.9, 19. , 19.1, 19.2, 19.3, 19.4, 19.5, 19.6, 19.7,\n",
       "       19.8, 19.9, 20. , 20.1, 20.2, 20.3, 20.4, 20.5, 20.6, 20.7, 20.8,\n",
       "       20.9, 21. , 21.1, 21.2, 21.3, 21.4, 21.5, 21.6, 21.7, 21.8, 21.9,\n",
       "       22. , 22.1, 22.2, 22.3, 22.4, 22.5, 22.6, 22.7, 22.8, 22.9, 23. ,\n",
       "       23.1, 23.2, 23.3, 23.4, 23.5, 23.6, 23.7, 23.8, 23.9, 24. , 24.1,\n",
       "       24.2, 24.3, 24.4, 24.5, 24.6, 24.7, 24.8, 24.9, 25. , 25.1, 25.2,\n",
       "       25.3, 25.4, 25.5, 25.6, 25.7, 25.8, 25.9, 26. , 26.1, 26.2, 26.3,\n",
       "       26.4, 26.5, 26.6, 26.7, 26.8, 26.9, 27. , 27.1, 27.2, 27.3, 27.4,\n",
       "       27.5, 27.6, 27.7, 27.8, 27.9, 28. , 28.1, 28.2, 28.3, 28.4, 28.5,\n",
       "       28.6, 28.7, 28.8, 28.9, 29. ])"
      ]
     },
     "execution_count": 65,
     "metadata": {},
     "output_type": "execute_result"
    }
   ],
   "source": [
    "h1"
   ]
  },
  {
   "cell_type": "markdown",
   "metadata": {},
   "source": [
    "Notebook by Cécile Hébert (2023).\n",
    "Except where otherwise noted, the content of this notebook is licensed under MIT licence."
   ]
  },
  {
   "cell_type": "code",
   "execution_count": null,
   "metadata": {},
   "outputs": [],
   "source": []
  }
 ],
 "metadata": {
  "hide_input": false,
  "kernelspec": {
   "display_name": "Python 3 (ipykernel)",
   "language": "python",
   "name": "python3"
  },
  "language_info": {
   "codemirror_mode": {
    "name": "ipython",
    "version": 3
   },
   "file_extension": ".py",
   "mimetype": "text/x-python",
   "name": "python",
   "nbconvert_exporter": "python",
   "pygments_lexer": "ipython3",
   "version": "3.9.15"
  }
 },
 "nbformat": 4,
 "nbformat_minor": 2
}
