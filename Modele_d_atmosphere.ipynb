{
 "cells": [
  {
   "cell_type": "code",
   "execution_count": 1,
   "metadata": {},
   "outputs": [
    {
     "data": {
      "text/html": [
       "<div class=\"bk-root\">\n",
       "        <a href=\"https://bokeh.org\" target=\"_blank\" class=\"bk-logo bk-logo-small bk-logo-notebook\"></a>\n",
       "        <span id=\"1002\">Loading BokehJS ...</span>\n",
       "    </div>\n"
      ]
     },
     "metadata": {},
     "output_type": "display_data"
    },
    {
     "data": {
      "application/javascript": [
       "(function(root) {\n",
       "  function now() {\n",
       "    return new Date();\n",
       "  }\n",
       "\n",
       "  const force = true;\n",
       "\n",
       "  if (typeof root._bokeh_onload_callbacks === \"undefined\" || force === true) {\n",
       "    root._bokeh_onload_callbacks = [];\n",
       "    root._bokeh_is_loading = undefined;\n",
       "  }\n",
       "\n",
       "const JS_MIME_TYPE = 'application/javascript';\n",
       "  const HTML_MIME_TYPE = 'text/html';\n",
       "  const EXEC_MIME_TYPE = 'application/vnd.bokehjs_exec.v0+json';\n",
       "  const CLASS_NAME = 'output_bokeh rendered_html';\n",
       "\n",
       "  /**\n",
       "   * Render data to the DOM node\n",
       "   */\n",
       "  function render(props, node) {\n",
       "    const script = document.createElement(\"script\");\n",
       "    node.appendChild(script);\n",
       "  }\n",
       "\n",
       "  /**\n",
       "   * Handle when an output is cleared or removed\n",
       "   */\n",
       "  function handleClearOutput(event, handle) {\n",
       "    const cell = handle.cell;\n",
       "\n",
       "    const id = cell.output_area._bokeh_element_id;\n",
       "    const server_id = cell.output_area._bokeh_server_id;\n",
       "    // Clean up Bokeh references\n",
       "    if (id != null && id in Bokeh.index) {\n",
       "      Bokeh.index[id].model.document.clear();\n",
       "      delete Bokeh.index[id];\n",
       "    }\n",
       "\n",
       "    if (server_id !== undefined) {\n",
       "      // Clean up Bokeh references\n",
       "      const cmd_clean = \"from bokeh.io.state import curstate; print(curstate().uuid_to_server['\" + server_id + \"'].get_sessions()[0].document.roots[0]._id)\";\n",
       "      cell.notebook.kernel.execute(cmd_clean, {\n",
       "        iopub: {\n",
       "          output: function(msg) {\n",
       "            const id = msg.content.text.trim();\n",
       "            if (id in Bokeh.index) {\n",
       "              Bokeh.index[id].model.document.clear();\n",
       "              delete Bokeh.index[id];\n",
       "            }\n",
       "          }\n",
       "        }\n",
       "      });\n",
       "      // Destroy server and session\n",
       "      const cmd_destroy = \"import bokeh.io.notebook as ion; ion.destroy_server('\" + server_id + \"')\";\n",
       "      cell.notebook.kernel.execute(cmd_destroy);\n",
       "    }\n",
       "  }\n",
       "\n",
       "  /**\n",
       "   * Handle when a new output is added\n",
       "   */\n",
       "  function handleAddOutput(event, handle) {\n",
       "    const output_area = handle.output_area;\n",
       "    const output = handle.output;\n",
       "\n",
       "    // limit handleAddOutput to display_data with EXEC_MIME_TYPE content only\n",
       "    if ((output.output_type != \"display_data\") || (!Object.prototype.hasOwnProperty.call(output.data, EXEC_MIME_TYPE))) {\n",
       "      return\n",
       "    }\n",
       "\n",
       "    const toinsert = output_area.element.find(\".\" + CLASS_NAME.split(' ')[0]);\n",
       "\n",
       "    if (output.metadata[EXEC_MIME_TYPE][\"id\"] !== undefined) {\n",
       "      toinsert[toinsert.length - 1].firstChild.textContent = output.data[JS_MIME_TYPE];\n",
       "      // store reference to embed id on output_area\n",
       "      output_area._bokeh_element_id = output.metadata[EXEC_MIME_TYPE][\"id\"];\n",
       "    }\n",
       "    if (output.metadata[EXEC_MIME_TYPE][\"server_id\"] !== undefined) {\n",
       "      const bk_div = document.createElement(\"div\");\n",
       "      bk_div.innerHTML = output.data[HTML_MIME_TYPE];\n",
       "      const script_attrs = bk_div.children[0].attributes;\n",
       "      for (let i = 0; i < script_attrs.length; i++) {\n",
       "        toinsert[toinsert.length - 1].firstChild.setAttribute(script_attrs[i].name, script_attrs[i].value);\n",
       "        toinsert[toinsert.length - 1].firstChild.textContent = bk_div.children[0].textContent\n",
       "      }\n",
       "      // store reference to server id on output_area\n",
       "      output_area._bokeh_server_id = output.metadata[EXEC_MIME_TYPE][\"server_id\"];\n",
       "    }\n",
       "  }\n",
       "\n",
       "  function register_renderer(events, OutputArea) {\n",
       "\n",
       "    function append_mime(data, metadata, element) {\n",
       "      // create a DOM node to render to\n",
       "      const toinsert = this.create_output_subarea(\n",
       "        metadata,\n",
       "        CLASS_NAME,\n",
       "        EXEC_MIME_TYPE\n",
       "      );\n",
       "      this.keyboard_manager.register_events(toinsert);\n",
       "      // Render to node\n",
       "      const props = {data: data, metadata: metadata[EXEC_MIME_TYPE]};\n",
       "      render(props, toinsert[toinsert.length - 1]);\n",
       "      element.append(toinsert);\n",
       "      return toinsert\n",
       "    }\n",
       "\n",
       "    /* Handle when an output is cleared or removed */\n",
       "    events.on('clear_output.CodeCell', handleClearOutput);\n",
       "    events.on('delete.Cell', handleClearOutput);\n",
       "\n",
       "    /* Handle when a new output is added */\n",
       "    events.on('output_added.OutputArea', handleAddOutput);\n",
       "\n",
       "    /**\n",
       "     * Register the mime type and append_mime function with output_area\n",
       "     */\n",
       "    OutputArea.prototype.register_mime_type(EXEC_MIME_TYPE, append_mime, {\n",
       "      /* Is output safe? */\n",
       "      safe: true,\n",
       "      /* Index of renderer in `output_area.display_order` */\n",
       "      index: 0\n",
       "    });\n",
       "  }\n",
       "\n",
       "  // register the mime type if in Jupyter Notebook environment and previously unregistered\n",
       "  if (root.Jupyter !== undefined) {\n",
       "    const events = require('base/js/events');\n",
       "    const OutputArea = require('notebook/js/outputarea').OutputArea;\n",
       "\n",
       "    if (OutputArea.prototype.mime_types().indexOf(EXEC_MIME_TYPE) == -1) {\n",
       "      register_renderer(events, OutputArea);\n",
       "    }\n",
       "  }\n",
       "  if (typeof (root._bokeh_timeout) === \"undefined\" || force === true) {\n",
       "    root._bokeh_timeout = Date.now() + 5000;\n",
       "    root._bokeh_failed_load = false;\n",
       "  }\n",
       "\n",
       "  const NB_LOAD_WARNING = {'data': {'text/html':\n",
       "     \"<div style='background-color: #fdd'>\\n\"+\n",
       "     \"<p>\\n\"+\n",
       "     \"BokehJS does not appear to have successfully loaded. If loading BokehJS from CDN, this \\n\"+\n",
       "     \"may be due to a slow or bad network connection. Possible fixes:\\n\"+\n",
       "     \"</p>\\n\"+\n",
       "     \"<ul>\\n\"+\n",
       "     \"<li>re-rerun `output_notebook()` to attempt to load from CDN again, or</li>\\n\"+\n",
       "     \"<li>use INLINE resources instead, as so:</li>\\n\"+\n",
       "     \"</ul>\\n\"+\n",
       "     \"<code>\\n\"+\n",
       "     \"from bokeh.resources import INLINE\\n\"+\n",
       "     \"output_notebook(resources=INLINE)\\n\"+\n",
       "     \"</code>\\n\"+\n",
       "     \"</div>\"}};\n",
       "\n",
       "  function display_loaded() {\n",
       "    const el = document.getElementById(\"1002\");\n",
       "    if (el != null) {\n",
       "      el.textContent = \"BokehJS is loading...\";\n",
       "    }\n",
       "    if (root.Bokeh !== undefined) {\n",
       "      if (el != null) {\n",
       "        el.textContent = \"BokehJS \" + root.Bokeh.version + \" successfully loaded.\";\n",
       "      }\n",
       "    } else if (Date.now() < root._bokeh_timeout) {\n",
       "      setTimeout(display_loaded, 100)\n",
       "    }\n",
       "  }\n",
       "\n",
       "  function run_callbacks() {\n",
       "    try {\n",
       "      root._bokeh_onload_callbacks.forEach(function(callback) {\n",
       "        if (callback != null)\n",
       "          callback();\n",
       "      });\n",
       "    } finally {\n",
       "      delete root._bokeh_onload_callbacks\n",
       "    }\n",
       "    console.debug(\"Bokeh: all callbacks have finished\");\n",
       "  }\n",
       "\n",
       "  function load_libs(css_urls, js_urls, callback) {\n",
       "    if (css_urls == null) css_urls = [];\n",
       "    if (js_urls == null) js_urls = [];\n",
       "\n",
       "    root._bokeh_onload_callbacks.push(callback);\n",
       "    if (root._bokeh_is_loading > 0) {\n",
       "      console.debug(\"Bokeh: BokehJS is being loaded, scheduling callback at\", now());\n",
       "      return null;\n",
       "    }\n",
       "    if (js_urls == null || js_urls.length === 0) {\n",
       "      run_callbacks();\n",
       "      return null;\n",
       "    }\n",
       "    console.debug(\"Bokeh: BokehJS not loaded, scheduling load and callback at\", now());\n",
       "    root._bokeh_is_loading = css_urls.length + js_urls.length;\n",
       "\n",
       "    function on_load() {\n",
       "      root._bokeh_is_loading--;\n",
       "      if (root._bokeh_is_loading === 0) {\n",
       "        console.debug(\"Bokeh: all BokehJS libraries/stylesheets loaded\");\n",
       "        run_callbacks()\n",
       "      }\n",
       "    }\n",
       "\n",
       "    function on_error(url) {\n",
       "      console.error(\"failed to load \" + url);\n",
       "    }\n",
       "\n",
       "    for (let i = 0; i < css_urls.length; i++) {\n",
       "      const url = css_urls[i];\n",
       "      const element = document.createElement(\"link\");\n",
       "      element.onload = on_load;\n",
       "      element.onerror = on_error.bind(null, url);\n",
       "      element.rel = \"stylesheet\";\n",
       "      element.type = \"text/css\";\n",
       "      element.href = url;\n",
       "      console.debug(\"Bokeh: injecting link tag for BokehJS stylesheet: \", url);\n",
       "      document.body.appendChild(element);\n",
       "    }\n",
       "\n",
       "    for (let i = 0; i < js_urls.length; i++) {\n",
       "      const url = js_urls[i];\n",
       "      const element = document.createElement('script');\n",
       "      element.onload = on_load;\n",
       "      element.onerror = on_error.bind(null, url);\n",
       "      element.async = false;\n",
       "      element.src = url;\n",
       "      console.debug(\"Bokeh: injecting script tag for BokehJS library: \", url);\n",
       "      document.head.appendChild(element);\n",
       "    }\n",
       "  };\n",
       "\n",
       "  function inject_raw_css(css) {\n",
       "    const element = document.createElement(\"style\");\n",
       "    element.appendChild(document.createTextNode(css));\n",
       "    document.body.appendChild(element);\n",
       "  }\n",
       "\n",
       "  const js_urls = [\"https://cdn.bokeh.org/bokeh/release/bokeh-2.4.3.min.js\", \"https://cdn.bokeh.org/bokeh/release/bokeh-gl-2.4.3.min.js\", \"https://cdn.bokeh.org/bokeh/release/bokeh-widgets-2.4.3.min.js\", \"https://cdn.bokeh.org/bokeh/release/bokeh-tables-2.4.3.min.js\", \"https://cdn.bokeh.org/bokeh/release/bokeh-mathjax-2.4.3.min.js\"];\n",
       "  const css_urls = [];\n",
       "\n",
       "  const inline_js = [    function(Bokeh) {\n",
       "      Bokeh.set_log_level(\"info\");\n",
       "    },\n",
       "function(Bokeh) {\n",
       "    }\n",
       "  ];\n",
       "\n",
       "  function run_inline_js() {\n",
       "    if (root.Bokeh !== undefined || force === true) {\n",
       "          for (let i = 0; i < inline_js.length; i++) {\n",
       "      inline_js[i].call(root, root.Bokeh);\n",
       "    }\n",
       "if (force === true) {\n",
       "        display_loaded();\n",
       "      }} else if (Date.now() < root._bokeh_timeout) {\n",
       "      setTimeout(run_inline_js, 100);\n",
       "    } else if (!root._bokeh_failed_load) {\n",
       "      console.log(\"Bokeh: BokehJS failed to load within specified timeout.\");\n",
       "      root._bokeh_failed_load = true;\n",
       "    } else if (force !== true) {\n",
       "      const cell = $(document.getElementById(\"1002\")).parents('.cell').data().cell;\n",
       "      cell.output_area.append_execute_result(NB_LOAD_WARNING)\n",
       "    }\n",
       "  }\n",
       "\n",
       "  if (root._bokeh_is_loading === 0) {\n",
       "    console.debug(\"Bokeh: BokehJS loaded, going straight to plotting\");\n",
       "    run_inline_js();\n",
       "  } else {\n",
       "    load_libs(css_urls, js_urls, function() {\n",
       "      console.debug(\"Bokeh: BokehJS plotting callback run at\", now());\n",
       "      run_inline_js();\n",
       "    });\n",
       "  }\n",
       "}(window));"
      ],
      "application/vnd.bokehjs_load.v0+json": "(function(root) {\n  function now() {\n    return new Date();\n  }\n\n  const force = true;\n\n  if (typeof root._bokeh_onload_callbacks === \"undefined\" || force === true) {\n    root._bokeh_onload_callbacks = [];\n    root._bokeh_is_loading = undefined;\n  }\n\n\n  if (typeof (root._bokeh_timeout) === \"undefined\" || force === true) {\n    root._bokeh_timeout = Date.now() + 5000;\n    root._bokeh_failed_load = false;\n  }\n\n  const NB_LOAD_WARNING = {'data': {'text/html':\n     \"<div style='background-color: #fdd'>\\n\"+\n     \"<p>\\n\"+\n     \"BokehJS does not appear to have successfully loaded. If loading BokehJS from CDN, this \\n\"+\n     \"may be due to a slow or bad network connection. Possible fixes:\\n\"+\n     \"</p>\\n\"+\n     \"<ul>\\n\"+\n     \"<li>re-rerun `output_notebook()` to attempt to load from CDN again, or</li>\\n\"+\n     \"<li>use INLINE resources instead, as so:</li>\\n\"+\n     \"</ul>\\n\"+\n     \"<code>\\n\"+\n     \"from bokeh.resources import INLINE\\n\"+\n     \"output_notebook(resources=INLINE)\\n\"+\n     \"</code>\\n\"+\n     \"</div>\"}};\n\n  function display_loaded() {\n    const el = document.getElementById(\"1002\");\n    if (el != null) {\n      el.textContent = \"BokehJS is loading...\";\n    }\n    if (root.Bokeh !== undefined) {\n      if (el != null) {\n        el.textContent = \"BokehJS \" + root.Bokeh.version + \" successfully loaded.\";\n      }\n    } else if (Date.now() < root._bokeh_timeout) {\n      setTimeout(display_loaded, 100)\n    }\n  }\n\n  function run_callbacks() {\n    try {\n      root._bokeh_onload_callbacks.forEach(function(callback) {\n        if (callback != null)\n          callback();\n      });\n    } finally {\n      delete root._bokeh_onload_callbacks\n    }\n    console.debug(\"Bokeh: all callbacks have finished\");\n  }\n\n  function load_libs(css_urls, js_urls, callback) {\n    if (css_urls == null) css_urls = [];\n    if (js_urls == null) js_urls = [];\n\n    root._bokeh_onload_callbacks.push(callback);\n    if (root._bokeh_is_loading > 0) {\n      console.debug(\"Bokeh: BokehJS is being loaded, scheduling callback at\", now());\n      return null;\n    }\n    if (js_urls == null || js_urls.length === 0) {\n      run_callbacks();\n      return null;\n    }\n    console.debug(\"Bokeh: BokehJS not loaded, scheduling load and callback at\", now());\n    root._bokeh_is_loading = css_urls.length + js_urls.length;\n\n    function on_load() {\n      root._bokeh_is_loading--;\n      if (root._bokeh_is_loading === 0) {\n        console.debug(\"Bokeh: all BokehJS libraries/stylesheets loaded\");\n        run_callbacks()\n      }\n    }\n\n    function on_error(url) {\n      console.error(\"failed to load \" + url);\n    }\n\n    for (let i = 0; i < css_urls.length; i++) {\n      const url = css_urls[i];\n      const element = document.createElement(\"link\");\n      element.onload = on_load;\n      element.onerror = on_error.bind(null, url);\n      element.rel = \"stylesheet\";\n      element.type = \"text/css\";\n      element.href = url;\n      console.debug(\"Bokeh: injecting link tag for BokehJS stylesheet: \", url);\n      document.body.appendChild(element);\n    }\n\n    for (let i = 0; i < js_urls.length; i++) {\n      const url = js_urls[i];\n      const element = document.createElement('script');\n      element.onload = on_load;\n      element.onerror = on_error.bind(null, url);\n      element.async = false;\n      element.src = url;\n      console.debug(\"Bokeh: injecting script tag for BokehJS library: \", url);\n      document.head.appendChild(element);\n    }\n  };\n\n  function inject_raw_css(css) {\n    const element = document.createElement(\"style\");\n    element.appendChild(document.createTextNode(css));\n    document.body.appendChild(element);\n  }\n\n  const js_urls = [\"https://cdn.bokeh.org/bokeh/release/bokeh-2.4.3.min.js\", \"https://cdn.bokeh.org/bokeh/release/bokeh-gl-2.4.3.min.js\", \"https://cdn.bokeh.org/bokeh/release/bokeh-widgets-2.4.3.min.js\", \"https://cdn.bokeh.org/bokeh/release/bokeh-tables-2.4.3.min.js\", \"https://cdn.bokeh.org/bokeh/release/bokeh-mathjax-2.4.3.min.js\"];\n  const css_urls = [];\n\n  const inline_js = [    function(Bokeh) {\n      Bokeh.set_log_level(\"info\");\n    },\nfunction(Bokeh) {\n    }\n  ];\n\n  function run_inline_js() {\n    if (root.Bokeh !== undefined || force === true) {\n          for (let i = 0; i < inline_js.length; i++) {\n      inline_js[i].call(root, root.Bokeh);\n    }\nif (force === true) {\n        display_loaded();\n      }} else if (Date.now() < root._bokeh_timeout) {\n      setTimeout(run_inline_js, 100);\n    } else if (!root._bokeh_failed_load) {\n      console.log(\"Bokeh: BokehJS failed to load within specified timeout.\");\n      root._bokeh_failed_load = true;\n    } else if (force !== true) {\n      const cell = $(document.getElementById(\"1002\")).parents('.cell').data().cell;\n      cell.output_area.append_execute_result(NB_LOAD_WARNING)\n    }\n  }\n\n  if (root._bokeh_is_loading === 0) {\n    console.debug(\"Bokeh: BokehJS loaded, going straight to plotting\");\n    run_inline_js();\n  } else {\n    load_libs(css_urls, js_urls, function() {\n      console.debug(\"Bokeh: BokehJS plotting callback run at\", now());\n      run_inline_js();\n    });\n  }\n}(window));"
     },
     "metadata": {},
     "output_type": "display_data"
    }
   ],
   "source": [
    "from ipywidgets import interact\n",
    "import numpy as np\n",
    "import pandas as pd\n",
    "import csv\n",
    "from IPython.display import Image\n",
    "\n",
    "\n",
    "import bokeh\n",
    "from bokeh.io import push_notebook, show, output_notebook\n",
    "from bokeh.plotting import figure\n",
    "from bokeh.models.glyphs import Patch\n",
    "output_notebook()\n",
    "\n"
   ]
  },
  {
   "cell_type": "markdown",
   "metadata": {},
   "source": [
    "# Modèle d'atmosphère\n",
    "\n",
    "On considère un modèle d'atmosphère dans lequel la première couche (troposphère) est une atmosphère adiabatique et la deuxième couche (stratosphère) une atmosphère isotherme.\n",
    "\n",
    "Au sol, on a $p_0=10^5\\;$Pa et une densité de l'air $\\rho_0=1.23\\;$kg.m$^{-3}$. L'air est un gaz parfait de coefficient $\\gamma =1.4$. \n",
    "\n",
    "La transition se fait à $h_\\text{trans}$, choisie. \n",
    "\n",
    "La pression et la masse volumique varient avec l'altitude $h$ selon  $d p = -\\rho g\\,d h$.\n",
    "\n",
    "La loi des gaz parfait se réécrit\n",
    "    \n",
    "$$T=\\frac{pM}{R\\rho}$$\n",
    "\n",
    "La portion adiabatique impose\n",
    "\n",
    "$$     p\\rho^{-\\gamma} = \\text{cte}=p_0\\rho_0^{-\\gamma}\\quad\\Longrightarrow\\quad \\rho=\\rho_0\n",
    "        \\left(\\frac{p}{p_0}\\right)^{\\frac{1}{\\gamma}}$$\n",
    "        \n",
    "$$       d p = -\\rho_0 g \\left(\\frac{p}{p_0}\\right)^{1/\\gamma} d h$$\n",
    "\n",
    "$$      p_\\text{tropo}(h) = p_0 \\left(1 - \\frac{\\gamma - 1}{\\gamma}\\frac{\\rho_0g}{p_0}h\\right)^\\frac{\\gamma}{\\gamma - 1} = p_0 \\left(1-\\frac{h}{h_0}\\right)^\\frac{\\gamma}{\\gamma - 1}$$\n",
    "     \n",
    "$$      h_0 = \\frac{\\gamma}{\\gamma - 1}\\frac{p_0}{\\rho_0 g}$$    \n",
    "\n",
    "Et dans la troposphère, on trouve aussi \n",
    "\n",
    "$$T_\\text{tropo}=T_0\\left(1-\\frac{h}{h_0}\\right)$$"
   ]
  },
  {
   "cell_type": "code",
   "execution_count": 2,
   "metadata": {},
   "outputs": [],
   "source": [
    "#Constante des gaz parfaite et données au sol\n",
    "R=8.314\n",
    "p0=10**5\n",
    "rho0=1.23\n",
    "gamma=1.4\n",
    "T0=300\n",
    "g=9.81"
   ]
  },
  {
   "cell_type": "code",
   "execution_count": 3,
   "metadata": {},
   "outputs": [],
   "source": [
    "h0=(gamma/(gamma-1))*p0/(g*rho0)"
   ]
  },
  {
   "cell_type": "code",
   "execution_count": 4,
   "metadata": {},
   "outputs": [
    {
     "data": {
      "text/plain": [
       "29.006406272013795"
      ]
     },
     "execution_count": 4,
     "metadata": {},
     "output_type": "execute_result"
    }
   ],
   "source": [
    "h0/1000 # h0 en km"
   ]
  },
  {
   "cell_type": "code",
   "execution_count": 5,
   "metadata": {},
   "outputs": [],
   "source": [
    "def ptropo(h):\n",
    "    ptro=p0*(1-h/h0)**(gamma/(gamma-1))\n",
    "    return(ptro)\n",
    "\n",
    "def Ttropo(h,T0):\n",
    "    ttro = T0*(1-h/h0)\n",
    "    return(ttro)"
   ]
  },
  {
   "cell_type": "code",
   "execution_count": 6,
   "metadata": {},
   "outputs": [],
   "source": [
    "h1 = np.linspace(0,29,291)"
   ]
  },
  {
   "cell_type": "code",
   "execution_count": 7,
   "metadata": {
    "scrolled": false
   },
   "outputs": [
    {
     "data": {
      "text/html": [
       "\n",
       "  <div class=\"bk-root\" id=\"12ec98be-ca05-4164-be4c-54e41a2ecf1d\" data-root-id=\"1003\"></div>\n"
      ]
     },
     "metadata": {},
     "output_type": "display_data"
    },
    {
     "data": {
      "application/javascript": [
       "(function(root) {\n",
       "  function embed_document(root) {\n",
       "  const docs_json = {\"f6ff7ca8-5bfc-48b7-a8de-92a76fb8123e\":{\"defs\":[],\"roots\":{\"references\":[{\"attributes\":{\"below\":[{\"id\":\"1014\"}],\"center\":[{\"id\":\"1017\"},{\"id\":\"1021\"}],\"height\":400,\"left\":[{\"id\":\"1018\"}],\"renderers\":[{\"id\":\"1040\"}],\"title\":{\"id\":\"1004\"},\"toolbar\":{\"id\":\"1029\"},\"x_range\":{\"id\":\"1006\"},\"x_scale\":{\"id\":\"1010\"},\"y_range\":{\"id\":\"1008\"},\"y_scale\":{\"id\":\"1012\"}},\"id\":\"1003\",\"subtype\":\"Figure\",\"type\":\"Plot\"},{\"attributes\":{\"overlay\":{\"id\":\"1028\"}},\"id\":\"1024\",\"type\":\"BoxZoomTool\"},{\"attributes\":{\"line_alpha\":0.1,\"line_color\":\"darkcyan\",\"line_width\":4,\"x\":{\"field\":\"x\"},\"y\":{\"field\":\"y\"}},\"id\":\"1038\",\"type\":\"Line\"},{\"attributes\":{},\"id\":\"1049\",\"type\":\"UnionRenderers\"},{\"attributes\":{},\"id\":\"1010\",\"type\":\"LinearScale\"},{\"attributes\":{\"bottom_units\":\"screen\",\"coordinates\":null,\"fill_alpha\":0.5,\"fill_color\":\"lightgrey\",\"group\":null,\"left_units\":\"screen\",\"level\":\"overlay\",\"line_alpha\":1.0,\"line_color\":\"black\",\"line_dash\":[4,4],\"line_width\":2,\"right_units\":\"screen\",\"syncable\":false,\"top_units\":\"screen\"},\"id\":\"1028\",\"type\":\"BoxAnnotation\"},{\"attributes\":{\"axis\":{\"id\":\"1018\"},\"coordinates\":null,\"dimension\":1,\"group\":null,\"ticker\":null},\"id\":\"1021\",\"type\":\"Grid\"},{\"attributes\":{},\"id\":\"1050\",\"type\":\"Selection\"},{\"attributes\":{\"axis_label\":\"altitude (km)\",\"coordinates\":null,\"formatter\":{\"id\":\"1047\"},\"group\":null,\"major_label_policy\":{\"id\":\"1048\"},\"ticker\":{\"id\":\"1015\"}},\"id\":\"1014\",\"type\":\"LinearAxis\"},{\"attributes\":{},\"id\":\"1022\",\"type\":\"PanTool\"},{\"attributes\":{},\"id\":\"1012\",\"type\":\"LinearScale\"},{\"attributes\":{\"line_color\":\"darkcyan\",\"line_width\":4,\"x\":{\"field\":\"x\"},\"y\":{\"field\":\"y\"}},\"id\":\"1037\",\"type\":\"Line\"},{\"attributes\":{\"coordinates\":null,\"group\":null,\"text\":\"\\u00e9volution de la pression dans le mod\\u00e8le adiabatique\"},\"id\":\"1004\",\"type\":\"Title\"},{\"attributes\":{},\"id\":\"1006\",\"type\":\"DataRange1d\"},{\"attributes\":{\"data\":{\"x\":{\"__ndarray__\":\"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\",\"dtype\":\"float64\",\"order\":\"little\",\"shape\":[291]},\"y\":{\"__ndarray__\":\"AAAAAAAA8D/mZ9v+k53vP8HcKfYAPO8/S6XwxUXb7j9W4rROYXvuP6/He3FSHO4/YtXKDxi+7T9MEagLsWDtP/FAmkccBO0/uCOpplio7D9WrV0MZU3sP5NAwlxA8+s/d+pifOmZ6z+wnU1QX0HrPzxuEr6g6eo/nM3Dq6yS6j8ex/b/gTzqP5o8w6Ef5+k/iiPEeISS6T9ewhdtrz7pP0TuX2ef6+g/MUnCUFOZ6D9FgOgSykfoP52KAJgC9+c/Y+i8yvum5z8/4lSWtFfnPz7JhOYrCec/6DaOp2C75j/hTTjGUW7mP8j6zy/+IeY/ejUo0mTW5T/MQpqbhIvlP4b2BXtcQeU/0vXRX+v35D8Q+us5MK/kPwQUyfkpZ+Q/Zu9lkNcf5D/rFkfvN9njP6I4eQhKk+M/t2qRzgxO4z+2cK00fwnjPxcBdC6gxeI/WAsVsG6C4j9e/kmu6T/iP2IPVh4Q/uE/QoEG9uC84T8v7LIrW3zhP+uFPbZ9POE/Y2oTjUf94D/D5Cyot77gP/S4DQDNgOA/pG3FjYZD4D+plu9K4wbgP/I/aGPEld8/AzKPeQQf3z8AAdfOhKneP8Qh3VpDNd4/LhpaFj7C3T+qGyL7clDdP/meJQTg39w/rAByLYNw3D/rHjJ0WgLcPxP4rtZjlds/YEpQVJ0p2z/NNJ3tBL/aP8nYPKSYVdo/Nv32elbt2T9XsrR1PIbZP9v2gJlIINk/I16J7Hi72D+Ctx52y1fYP6e2tT4+9dc/SJ3nT8+T1z/Y5XK0fDPXP2HvO3hE1NY/w6pNqCR21j/nSNpSGxnWP03qO4cmvdU/yE/1VURi1T+SjLLQcgjVP225SQqwr9Q/OKm7FvpX1D/InjQLTwHUP/kDDf6sq9M/FyLKBhJX0z+42x4+fAPTP8ln7L3psNI/Bw5DoVhf0j/45GIExw7SPw2RvAQzv9E/ZQXywJpw0T/yRddY/CLRPwIrc+1V1tA/SiYAoaWK0D98Ce2W6T/QP5ucu+c/7M8/AMBYu41azz8/zdL2uMrOPx4nuuq9PM4/1d8P6piwzT+9WEdKRibNP3XlR2PCncw/H3JujwkXzD8jLY8rGJLLPzM095bqDss/6kRuM32Nyj+ocDhlzA3KP1DUF5PUj8k/I1NOJpITyT+mVZ+KAZnIPweMUS4fIMg/NbQwgueoxz/PY4/5VjPHP+XVSApqv8Y/jbzCLB1Nxj+FFu/bbNzFP64ITpVVbcU/1bvv2NP/xD80PnYp5JPEP29pFwyDKcQ/0syeCK3Awz+Dm2+pXlnDP3KfhnuU88I/fTB8DkuPwj8UMIb0fizCP3oJesIsy8E/orbOD1FrwT+yyZ526AzBP1N7qpPvr8A/xr1ZBmNUwD8EqnzhfvS/P0TnK+8CQ78/PbqYhEuUvj++Gfv1Uei9P4rF75wPP70/x6l82H2YvD9+TRUNlvS7P39Ln6RRU7s/E9d2Dqq0uj+QS3O/mBi6P4DH6zEXf7k/jtO75R7ouD9vFUhgqVO4P3wOgyywwbc//Obx2iwytz/ORbEBGaW2P7I0ejxuGrY/lRGnLCaStT8AjTh5Ogy1P9212s6kiLQ/7BLq314HtD8VynhkYoizP7rVUxqpC7M/g0gIxSyRsj+pn+gt5xiyP0IkEiTSorE/q1tyfOcusT9Th8wRIb2wP1Q0v8R4TbA/6bWT99C/rz9SHaVG1OiuP/98V1vvFa4/aw00JhZHrT++JrSjPHysP7QpTdxWtas/V4x85Fjyqj/2CtTcNjOqPzv/BfLkd6k/vNzxXFfAqD+W1LBiggyoPwqholRaXKc/DHl6kNOvpj+bLUyA4gamPzdxmZp7YaU/N0pfYpO/pD+UsSNnHiGkPxZeA0URhqM/9b2/pGDuoj86H807AVqiPwoIYcznyKE/G8CAJQk7oT83DBAjWrCgPxod4K3PKKA/n2V9d71Inz896wqf+EWeP+8LU/I6SZ0/CYmWq25SnD/lp4wffmGbP8Sqg71Tdpo/+sKBD9qQmT91fma6+7CYP66zDH6j1pc/PPBsNbwBlz/1a8DWMDKWP2uEpHPsZ5U/WMU+OdqilD94f2Fw5eKTP/HzsH35J5M/hBbJ4QFykj/f6mM56sCRP3qCgD2eFJE/Rp2KwwltkD+85wV7MZSPP+9cUHRuV44/ghtByqIjjT+Fl0gOp/iLP9BwUQxU1oo/azEYy4K8iT+Am4SMDKuIPzqSBM7KoYc/z6voSJeghj/wd8LyS6eFP3mJxP3CtYQ/UVEk2dbLgz9w2H0xYumCPzdqOfE/DoI/sD3zQEs6gT/yL+WHX22APztBpdiwTn8/xgbtpyPQfT8kdefIz158P9Kbjwdu+no/3CmAsbeieT/z0+KWZld4P/v7ZAs1GHc/Ss4x593kdT9aBfKHHL10P2GP0dGsoHM/hk2LMEuPcj8LK3uYtIhxPzjPtoemjHA/7ldaDr41bz9YappXOWZtP4kXaC89qms/xd3F9kgBaj9mlvot3WpoPyiFHnd75mY/7B+6mKZzZT9LXneA4hFkP59u5kW0wGI/NsBWLaJ/YT8OXsWqM05gP+NVw8niV14/VEJTcMowXD/xmD10NCZaP7udKnk5N1g/wqw8ovRiVj9FEh+Zg6hUP34SUpUGB1M/lKq3Y6B9UT8332RudgtQPzN6d4lhX00/mCOlR/TSSj+rh1r+/29IP3NRnBPlNEY/R25IfwkgRD/UBLre2C9CP30oQ4nEYkA/97YXS4duPT+BNs9/plc6P9kkacPsfTc/yU+zU2zeND9vQfbMQ3YyP7yvAGCeQjA/lXAhFmiBLD8SZbyrk9soPwGjJCJkjiU/DNUGM5mUIj9j2mB+HNIfP2xrE811DRs/BxKYVGfRFj8FqVA1VRQTP0KQHUXAmQ8/7cg86c3jCT+rDaq3EPUEP4pC3nJJvAA/ENo1kIBR+j50TO17klT0PvJuTmkkxe4+aGhPWeu65j4ZJmn11lDgPtR1/Omin9Y+zNowsMcNzj72/Z0thejCPv7b3R4xKrY+piFujpiXpz4ckcxiGdmVPm4MZTOVQoA+UBmHFnNRYD5qqVWo264pPhe6kpUxiEY9\",\"dtype\":\"float64\",\"order\":\"little\",\"shape\":[291]}},\"selected\":{\"id\":\"1050\"},\"selection_policy\":{\"id\":\"1049\"}},\"id\":\"1036\",\"type\":\"ColumnDataSource\"},{\"attributes\":{},\"id\":\"1008\",\"type\":\"DataRange1d\"},{\"attributes\":{},\"id\":\"1025\",\"type\":\"SaveTool\"},{\"attributes\":{},\"id\":\"1019\",\"type\":\"BasicTicker\"},{\"attributes\":{\"tools\":[{\"id\":\"1022\"},{\"id\":\"1023\"},{\"id\":\"1024\"},{\"id\":\"1025\"},{\"id\":\"1026\"},{\"id\":\"1027\"}]},\"id\":\"1029\",\"type\":\"Toolbar\"},{\"attributes\":{},\"id\":\"1044\",\"type\":\"BasicTickFormatter\"},{\"attributes\":{},\"id\":\"1045\",\"type\":\"AllLabels\"},{\"attributes\":{},\"id\":\"1026\",\"type\":\"ResetTool\"},{\"attributes\":{\"line_alpha\":0.2,\"line_color\":\"darkcyan\",\"line_width\":4,\"x\":{\"field\":\"x\"},\"y\":{\"field\":\"y\"}},\"id\":\"1039\",\"type\":\"Line\"},{\"attributes\":{\"coordinates\":null,\"data_source\":{\"id\":\"1036\"},\"glyph\":{\"id\":\"1037\"},\"group\":null,\"hover_glyph\":null,\"muted_glyph\":{\"id\":\"1039\"},\"nonselection_glyph\":{\"id\":\"1038\"},\"view\":{\"id\":\"1041\"}},\"id\":\"1040\",\"type\":\"GlyphRenderer\"},{\"attributes\":{},\"id\":\"1047\",\"type\":\"BasicTickFormatter\"},{\"attributes\":{\"axis_label\":\"pression (bar)\",\"coordinates\":null,\"formatter\":{\"id\":\"1044\"},\"group\":null,\"major_label_policy\":{\"id\":\"1045\"},\"ticker\":{\"id\":\"1019\"}},\"id\":\"1018\",\"type\":\"LinearAxis\"},{\"attributes\":{},\"id\":\"1048\",\"type\":\"AllLabels\"},{\"attributes\":{\"source\":{\"id\":\"1036\"}},\"id\":\"1041\",\"type\":\"CDSView\"},{\"attributes\":{},\"id\":\"1027\",\"type\":\"HelpTool\"},{\"attributes\":{},\"id\":\"1015\",\"type\":\"BasicTicker\"},{\"attributes\":{},\"id\":\"1023\",\"type\":\"WheelZoomTool\"},{\"attributes\":{\"axis\":{\"id\":\"1014\"},\"coordinates\":null,\"group\":null,\"ticker\":null},\"id\":\"1017\",\"type\":\"Grid\"}],\"root_ids\":[\"1003\"]},\"title\":\"Bokeh Application\",\"version\":\"2.4.3\"}};\n",
       "  const render_items = [{\"docid\":\"f6ff7ca8-5bfc-48b7-a8de-92a76fb8123e\",\"root_ids\":[\"1003\"],\"roots\":{\"1003\":\"12ec98be-ca05-4164-be4c-54e41a2ecf1d\"}}];\n",
       "  root.Bokeh.embed.embed_items_notebook(docs_json, render_items);\n",
       "  }\n",
       "  if (root.Bokeh !== undefined) {\n",
       "    embed_document(root);\n",
       "  } else {\n",
       "    let attempts = 0;\n",
       "    const timer = setInterval(function(root) {\n",
       "      if (root.Bokeh !== undefined) {\n",
       "        clearInterval(timer);\n",
       "        embed_document(root);\n",
       "      } else {\n",
       "        attempts++;\n",
       "        if (attempts > 100) {\n",
       "          clearInterval(timer);\n",
       "          console.log(\"Bokeh: ERROR: Unable to run BokehJS code because BokehJS library is missing\");\n",
       "        }\n",
       "      }\n",
       "    }, 10, root)\n",
       "  }\n",
       "})(window);"
      ],
      "application/vnd.bokehjs_exec.v0+json": ""
     },
     "metadata": {
      "application/vnd.bokehjs_exec.v0+json": {
       "id": "1003"
      }
     },
     "output_type": "display_data"
    }
   ],
   "source": [
    "f=figure(title=\"évolution de la pression dans le modèle adiabatique\",x_axis_label=\"altitude (km)\",\n",
    "         y_axis_label=\"pression (bar)\", plot_height=400, plot_width=600)\n",
    "f.line(h1,ptropo(h1*1000)/10**5,color='darkcyan',line_width=4)\n",
    "\n",
    "show(f)"
   ]
  },
  {
   "cell_type": "code",
   "execution_count": 8,
   "metadata": {},
   "outputs": [
    {
     "data": {
      "text/html": [
       "\n",
       "  <div class=\"bk-root\" id=\"37b50426-df41-44f0-a447-d699cb884b94\" data-root-id=\"1102\"></div>\n"
      ]
     },
     "metadata": {},
     "output_type": "display_data"
    },
    {
     "data": {
      "application/javascript": [
       "(function(root) {\n",
       "  function embed_document(root) {\n",
       "  const docs_json = {\"21d0adc0-ad71-4831-bfa0-2473b900a522\":{\"defs\":[],\"roots\":{\"references\":[{\"attributes\":{\"below\":[{\"id\":\"1113\"}],\"center\":[{\"id\":\"1116\"},{\"id\":\"1120\"}],\"height\":400,\"left\":[{\"id\":\"1117\"}],\"renderers\":[{\"id\":\"1139\"}],\"title\":{\"id\":\"1103\"},\"toolbar\":{\"id\":\"1128\"},\"x_range\":{\"id\":\"1105\"},\"x_scale\":{\"id\":\"1109\"},\"y_range\":{\"id\":\"1107\"},\"y_scale\":{\"id\":\"1111\"}},\"id\":\"1102\",\"subtype\":\"Figure\",\"type\":\"Plot\"},{\"attributes\":{\"overlay\":{\"id\":\"1127\"}},\"id\":\"1123\",\"type\":\"BoxZoomTool\"},{\"attributes\":{},\"id\":\"1157\",\"type\":\"AllLabels\"},{\"attributes\":{},\"id\":\"1121\",\"type\":\"PanTool\"},{\"attributes\":{},\"id\":\"1126\",\"type\":\"HelpTool\"},{\"attributes\":{},\"id\":\"1156\",\"type\":\"BasicTickFormatter\"},{\"attributes\":{\"line_alpha\":0.1,\"line_color\":\"darkcyan\",\"line_width\":4,\"x\":{\"field\":\"x\"},\"y\":{\"field\":\"y\"}},\"id\":\"1137\",\"type\":\"Line\"},{\"attributes\":{\"coordinates\":null,\"data_source\":{\"id\":\"1135\"},\"glyph\":{\"id\":\"1136\"},\"group\":null,\"hover_glyph\":null,\"muted_glyph\":{\"id\":\"1138\"},\"nonselection_glyph\":{\"id\":\"1137\"},\"view\":{\"id\":\"1140\"}},\"id\":\"1139\",\"type\":\"GlyphRenderer\"},{\"attributes\":{},\"id\":\"1118\",\"type\":\"BasicTicker\"},{\"attributes\":{},\"id\":\"1158\",\"type\":\"UnionRenderers\"},{\"attributes\":{},\"id\":\"1154\",\"type\":\"AllLabels\"},{\"attributes\":{},\"id\":\"1122\",\"type\":\"WheelZoomTool\"},{\"attributes\":{\"axis_label\":\"altitude (km)\",\"coordinates\":null,\"formatter\":{\"id\":\"1156\"},\"group\":null,\"major_label_policy\":{\"id\":\"1157\"},\"ticker\":{\"id\":\"1114\"}},\"id\":\"1113\",\"type\":\"LinearAxis\"},{\"attributes\":{},\"id\":\"1153\",\"type\":\"BasicTickFormatter\"},{\"attributes\":{},\"id\":\"1159\",\"type\":\"Selection\"},{\"attributes\":{\"source\":{\"id\":\"1135\"}},\"id\":\"1140\",\"type\":\"CDSView\"},{\"attributes\":{},\"id\":\"1114\",\"type\":\"BasicTicker\"},{\"attributes\":{\"axis\":{\"id\":\"1113\"},\"coordinates\":null,\"group\":null,\"ticker\":null},\"id\":\"1116\",\"type\":\"Grid\"},{\"attributes\":{},\"id\":\"1111\",\"type\":\"LinearScale\"},{\"attributes\":{\"data\":{\"x\":{\"__ndarray__\":\"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\",\"dtype\":\"float64\",\"order\":\"little\",\"shape\":[291]},\"y\":{\"__ndarray__\":\"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\",\"dtype\":\"float64\",\"order\":\"little\",\"shape\":[291]}},\"selected\":{\"id\":\"1159\"},\"selection_policy\":{\"id\":\"1158\"}},\"id\":\"1135\",\"type\":\"ColumnDataSource\"},{\"attributes\":{},\"id\":\"1107\",\"type\":\"DataRange1d\"},{\"attributes\":{},\"id\":\"1109\",\"type\":\"LinearScale\"},{\"attributes\":{},\"id\":\"1105\",\"type\":\"DataRange1d\"},{\"attributes\":{\"tools\":[{\"id\":\"1121\"},{\"id\":\"1122\"},{\"id\":\"1123\"},{\"id\":\"1124\"},{\"id\":\"1125\"},{\"id\":\"1126\"}]},\"id\":\"1128\",\"type\":\"Toolbar\"},{\"attributes\":{\"coordinates\":null,\"group\":null,\"text\":\"\\u00e9volution de la temp\\u00e9rature dans le mod\\u00e8le adiabatique\"},\"id\":\"1103\",\"type\":\"Title\"},{\"attributes\":{\"line_color\":\"darkcyan\",\"line_width\":4,\"x\":{\"field\":\"x\"},\"y\":{\"field\":\"y\"}},\"id\":\"1136\",\"type\":\"Line\"},{\"attributes\":{\"bottom_units\":\"screen\",\"coordinates\":null,\"fill_alpha\":0.5,\"fill_color\":\"lightgrey\",\"group\":null,\"left_units\":\"screen\",\"level\":\"overlay\",\"line_alpha\":1.0,\"line_color\":\"black\",\"line_dash\":[4,4],\"line_width\":2,\"right_units\":\"screen\",\"syncable\":false,\"top_units\":\"screen\"},\"id\":\"1127\",\"type\":\"BoxAnnotation\"},{\"attributes\":{\"line_alpha\":0.2,\"line_color\":\"darkcyan\",\"line_width\":4,\"x\":{\"field\":\"x\"},\"y\":{\"field\":\"y\"}},\"id\":\"1138\",\"type\":\"Line\"},{\"attributes\":{\"axis_label\":\"Temp\\u00e9rature (K)\",\"coordinates\":null,\"formatter\":{\"id\":\"1153\"},\"group\":null,\"major_label_policy\":{\"id\":\"1154\"},\"ticker\":{\"id\":\"1118\"}},\"id\":\"1117\",\"type\":\"LinearAxis\"},{\"attributes\":{},\"id\":\"1125\",\"type\":\"ResetTool\"},{\"attributes\":{\"axis\":{\"id\":\"1117\"},\"coordinates\":null,\"dimension\":1,\"group\":null,\"ticker\":null},\"id\":\"1120\",\"type\":\"Grid\"},{\"attributes\":{},\"id\":\"1124\",\"type\":\"SaveTool\"}],\"root_ids\":[\"1102\"]},\"title\":\"Bokeh Application\",\"version\":\"2.4.3\"}};\n",
       "  const render_items = [{\"docid\":\"21d0adc0-ad71-4831-bfa0-2473b900a522\",\"root_ids\":[\"1102\"],\"roots\":{\"1102\":\"37b50426-df41-44f0-a447-d699cb884b94\"}}];\n",
       "  root.Bokeh.embed.embed_items_notebook(docs_json, render_items);\n",
       "  }\n",
       "  if (root.Bokeh !== undefined) {\n",
       "    embed_document(root);\n",
       "  } else {\n",
       "    let attempts = 0;\n",
       "    const timer = setInterval(function(root) {\n",
       "      if (root.Bokeh !== undefined) {\n",
       "        clearInterval(timer);\n",
       "        embed_document(root);\n",
       "      } else {\n",
       "        attempts++;\n",
       "        if (attempts > 100) {\n",
       "          clearInterval(timer);\n",
       "          console.log(\"Bokeh: ERROR: Unable to run BokehJS code because BokehJS library is missing\");\n",
       "        }\n",
       "      }\n",
       "    }, 10, root)\n",
       "  }\n",
       "})(window);"
      ],
      "application/vnd.bokehjs_exec.v0+json": ""
     },
     "metadata": {
      "application/vnd.bokehjs_exec.v0+json": {
       "id": "1102"
      }
     },
     "output_type": "display_data"
    }
   ],
   "source": [
    "f=figure(title=\"évolution de la température dans le modèle adiabatique\",x_axis_label=\"altitude (km)\",\n",
    "         y_axis_label=\"Température (K)\", plot_height=400, plot_width=600)\n",
    "f.line(h1,Ttropo(h1*1000,300),color='darkcyan',line_width=4)\n",
    "\n",
    "show(f)"
   ]
  },
  {
   "cell_type": "markdown",
   "metadata": {},
   "source": [
    "### Portion isotherme\n",
    "\n",
    "Dans la portion isotherme, \n",
    "\n",
    "$$ d p=-\\frac{Mpg}{RT_\\text{strat}}d h$$\n",
    "\n",
    "$$   \\ln(p) = -\\frac{Mg}{RT_\\text{strat}}h + A$$\n",
    "\n",
    "$$p_\\text{strat} = B e^{\\left( -\\frac{Mg}{RT_\\text{strat}}h\\right)}$$\n",
    "      \n",
    "Le modèle s'applique à partir de $h_\\text{trans}$, transition entre la troposphère et la stratosphère (entre 8 et 18 km suivant la lattitude). \n",
    "\n",
    "La pression et la températures sont continues, on obtient $p_\\text{trans} = p_\\text{tropo} (h_\\text{trans})$, et $T_\\text{strat} = T_\\text{tropo} (h_\\text{trans})$\n",
    "\n",
    "$$\\frac{M}{R} = \\frac{T \\rho}{p} =\\frac{T_0\\rho_0}{p_0}$$\n",
    "\n",
    "$$p_\\text{strat} = B e^{\\left( -\\frac{T_0\\rho_0 g}{p_0 T_\\text{strat}}h\\right)}$$\n"
   ]
  },
  {
   "cell_type": "code",
   "execution_count": null,
   "metadata": {},
   "outputs": [],
   "source": [
    "def pstrat(h):\n",
    "    pstr= B * np.e**(-(T0*rho0*g*h)/(p0*Tstrat))\n",
    "    return(pstr)"
   ]
  },
  {
   "cell_type": "markdown",
   "metadata": {},
   "source": [
    "### Comparaison du modèle adiabatique et isotherme depuis le sol "
   ]
  },
  {
   "cell_type": "code",
   "execution_count": null,
   "metadata": {},
   "outputs": [],
   "source": [
    "htrans = 0\n",
    "ptrans = ptropo(htrans)\n",
    "Tstrat = Ttropo(htrans, 300)\n",
    "B = ptrans*np.e**(T0*rho0 *g *htrans/(p0*Tstrat))"
   ]
  },
  {
   "cell_type": "code",
   "execution_count": null,
   "metadata": {},
   "outputs": [],
   "source": [
    "f=figure(title=\"évolution de la pression\",x_axis_label=\"altitude (km)\",\n",
    "         y_axis_label=\"pression (bar)\", plot_height=400, plot_width=600)\n",
    "f.line(h1,ptropo(h1*1000)/10**5,color='darkcyan',line_width=4, legend_label=\"modèle adiabatique\")\n",
    "f.line(h1,pstrat(h1*1000)/10**5,color='darkorange',line_width=4, legend_label=\"modèle isotherme\")\n",
    "\n",
    "show(f)"
   ]
  },
  {
   "cell_type": "markdown",
   "metadata": {},
   "source": [
    "### transition adiabatique -> isotherme à htrans"
   ]
  },
  {
   "cell_type": "code",
   "execution_count": null,
   "metadata": {},
   "outputs": [],
   "source": [
    "T0=300\n",
    "htrans = 8000\n",
    "ptrans = ptropo(htrans)\n",
    "Tstrat = Ttropo(htrans, T0)\n",
    "B = ptrans*np.e**(T0*rho0 *g *htrans/(p0*Tstrat))\n",
    "\n",
    "h2 = np.array([h1i for h1i in h1 if h1i <= htrans/1000])\n",
    "h3 = np.array([h1i for h1i in h1 if h1i >= htrans/1000])\n",
    "\n",
    "f=figure(title=\"évolution de la pression avec l'altitude\",x_axis_label=\"altitude (km)\",\n",
    "         y_axis_label=\"pression (bar)\", plot_height=400, plot_width=600)\n",
    "f.line(h1,ptropo(h1*1000)/10**5,color='darkcyan',line_width=1, line_dash=[10, 5])\n",
    "f.line(h2,ptropo(h2*1000)/10**5,color='darkcyan',line_width=4, legend_label=\"modèle adiabatique\")\n",
    "f.line(h1,pstrat(h1*1000)/10**5,color='darkorange',line_width=1, line_dash=[10, 5])\n",
    "f.line(h3,pstrat(h3*1000)/10**5,color='darkorange',line_width=4, legend_label=\"modèle isotherme\")\n",
    "\n",
    "show(f)\n",
    "\n",
    "print('-')\n",
    "print('Altitude choisie pour la transition troposphère->stratospère h_trans = {:0.1f}[km]'.format(htrans/1000))\n",
    "print('Température au sol T0 = {:0.1f}[°C]'.format(T0-273.15))\n",
    "print('Température de la stratosphère Tstrat = {:0.1f}[°C]'.format(Tstrat-273.15))"
   ]
  },
  {
   "cell_type": "markdown",
   "metadata": {},
   "source": [
    "## Conclusion\n",
    "Le modèle présenté ici est très simplifié. Il permet d'expliquer la baisse de pression et de température avec l'altitude, observée lorsqu'on se promène en montagne. La température obtenue pour la stratosphère semble, elle un peu (!) basse. Il manque clairement des éléments au modèle. "
   ]
  },
  {
   "cell_type": "markdown",
   "metadata": {},
   "source": [
    "Notebook by Cécile Hébert (2023).\n",
    "Except where otherwise noted, the content of this notebook is licensed under MIT licence."
   ]
  }
 ],
 "metadata": {
  "hide_input": false,
  "kernelspec": {
   "display_name": "Python 3 (ipykernel)",
   "language": "python",
   "name": "python3"
  },
  "language_info": {
   "codemirror_mode": {
    "name": "ipython",
    "version": 3
   },
   "file_extension": ".py",
   "mimetype": "text/x-python",
   "name": "python",
   "nbconvert_exporter": "python",
   "pygments_lexer": "ipython3",
   "version": "3.9.15"
  }
 },
 "nbformat": 4,
 "nbformat_minor": 2
}
