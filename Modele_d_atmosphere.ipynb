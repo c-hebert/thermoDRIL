{
 "cells": [
  {
   "cell_type": "code",
   "execution_count": null,
   "metadata": {},
   "outputs": [],
   "source": [
    "from ipywidgets import interact\n",
    "import numpy as np\n",
    "import pandas as pd\n",
    "import csv\n",
    "from IPython.display import Image\n",
    "\n",
    "\n",
    "import bokeh\n",
    "from bokeh.io import push_notebook, show, output_notebook\n",
    "from bokeh.plotting import figure\n",
    "from bokeh.models.glyphs import Patch\n",
    "output_notebook()"
   ]
  },
  {
   "cell_type": "markdown",
   "metadata": {},
   "source": [
    "# Modèle d'atmosphère\n",
    "\n",
    "On considère un modèle d'atmosphère dans lequel la première couche (troposphère) est une atmosphère adiabatique et la deuxième couche (stratosphère) une atmosphère isotherme.\n",
    "\n",
    "Au sol, on a $p_0=10^5\\;$Pa et une densité de l'air $\\rho_0=1.23\\;$kg.m$^{-3}$. L'air est un gaz parfait de coefficient $\\gamma =1.4$. \n",
    "\n",
    "La transition se fait à $h_\\text{trans}$, choisie. \n",
    "\n",
    "La pression et la masse volumique varient avec l'altitude $h$ selon  $d p = -\\rho g\\,d h$.\n",
    "\n",
    "La loi des gaz parfait se réécrit\n",
    "    \n",
    "$$T=\\frac{pM}{R\\rho}$$\n",
    "\n",
    "La portion adiabatique impose\n",
    "\n",
    "$$     p\\rho^{-\\gamma} = \\text{cte}=p_0\\rho_0^{-\\gamma}\\quad\\Longrightarrow\\quad \\rho=\\rho_0\n",
    "        \\left(\\frac{p}{p_0}\\right)^{\\frac{1}{\\gamma}}$$\n",
    "        \n",
    "$$       d p = -\\rho_0 g \\left(\\frac{p}{p_0}\\right)^{1/\\gamma} d h$$\n",
    "\n",
    "$$      p_\\text{tropo}(h) = p_0 \\left(1 - \\frac{\\gamma - 1}{\\gamma}\\frac{\\rho_0g}{p_0}h\\right)^\\frac{\\gamma}{\\gamma - 1} = p_0 \\left(1-\\frac{h}{h_0}\\right)^\\frac{\\gamma}{\\gamma - 1}$$\n",
    "     \n",
    "$$      h_0 = \\frac{\\gamma}{\\gamma - 1}\\frac{p_0}{\\rho_0 g}$$    \n",
    "\n",
    "Et dans la troposphère, on trouve aussi \n",
    "\n",
    "$$T_\\text{tropo}=T_0\\left(1-\\frac{h}{h_0}\\right)$$"
   ]
  },
  {
   "cell_type": "code",
   "execution_count": null,
   "metadata": {},
   "outputs": [],
   "source": [
    "#Constante des gaz parfaite et données au sol\n",
    "R=8.314\n",
    "p0=10**5\n",
    "rho0=1.23\n",
    "gamma=1.4\n",
    "T0=300\n",
    "g=9.81"
   ]
  },
  {
   "cell_type": "code",
   "execution_count": null,
   "metadata": {},
   "outputs": [],
   "source": [
    "h0=(gamma/(gamma-1))*p0/(g*rho0)"
   ]
  },
  {
   "cell_type": "code",
   "execution_count": null,
   "metadata": {},
   "outputs": [],
   "source": [
    "h0/1000 # h0 en km"
   ]
  },
  {
   "cell_type": "code",
   "execution_count": null,
   "metadata": {},
   "outputs": [],
   "source": [
    "def ptropo(h):\n",
    "    ptro=p0*(1-h/h0)**(gamma/(gamma-1))\n",
    "    return(ptro)\n",
    "\n",
    "def Ttropo(h,T0):\n",
    "    ttro = T0*(1-h/h0)\n",
    "    return(ttro)"
   ]
  },
  {
   "cell_type": "code",
   "execution_count": null,
   "metadata": {},
   "outputs": [],
   "source": [
    "h1 = np.linspace(0,29,291)"
   ]
  },
  {
   "cell_type": "code",
   "execution_count": null,
   "metadata": {
    "scrolled": false
   },
   "outputs": [],
   "source": [
    "f=figure(title=\"évolution de la pression dans le modèle adiabatique\",x_axis_label=\"altitude (km)\",\n",
    "         y_axis_label=\"pression (bar)\", height=400, width=600)\n",
    "f.line(h1,ptropo(h1*1000)/10**5,color='darkcyan',line_width=4)\n",
    "\n",
    "show(f)"
   ]
  },
  {
   "cell_type": "code",
   "execution_count": null,
   "metadata": {},
   "outputs": [],
   "source": [
    "f=figure(title=\"évolution de la température dans le modèle adiabatique\",x_axis_label=\"altitude (km)\",\n",
    "         y_axis_label=\"Température (K)\", height=400, width=600)\n",
    "f.line(h1,Ttropo(h1*1000,300),color='darkcyan',line_width=4)\n",
    "\n",
    "show(f)"
   ]
  },
  {
   "cell_type": "markdown",
   "metadata": {},
   "source": [
    "### Portion isotherme\n",
    "\n",
    "Dans la portion isotherme, \n",
    "\n",
    "$$ d p=-\\frac{Mpg}{RT_\\text{strat}}d h$$\n",
    "\n",
    "$$   \\ln(p) = -\\frac{Mg}{RT_\\text{strat}}h + A$$\n",
    "\n",
    "$$p_\\text{strat} = B e^{\\left( -\\frac{Mg}{RT_\\text{strat}}h\\right)}$$\n",
    "      \n",
    "Le modèle s'applique à partir de $h_\\text{trans}$, transition entre la troposphère et la stratosphère (entre 8 et 18 km suivant la lattitude). \n",
    "\n",
    "La pression et la températures sont continues, on obtient $p_\\text{trans} = p_\\text{tropo} (h_\\text{trans})$, et $T_\\text{strat} = T_\\text{tropo} (h_\\text{trans})$\n",
    "\n",
    "$$\\frac{M}{R} = \\frac{T \\rho}{p} =\\frac{T_0\\rho_0}{p_0}$$\n",
    "\n",
    "$$p_\\text{strat} = B e^{\\left( -\\frac{T_0\\rho_0 g}{p_0 T_\\text{strat}}h\\right)}$$\n"
   ]
  },
  {
   "cell_type": "code",
   "execution_count": null,
   "metadata": {},
   "outputs": [],
   "source": [
    "def pstrat(h):\n",
    "    pstr= B * np.e**(-(T0*rho0*g*h)/(p0*Tstrat))\n",
    "    return(pstr)"
   ]
  },
  {
   "cell_type": "markdown",
   "metadata": {},
   "source": [
    "### Comparaison du modèle adiabatique et isotherme depuis le sol "
   ]
  },
  {
   "cell_type": "code",
   "execution_count": null,
   "metadata": {},
   "outputs": [],
   "source": [
    "htrans = 0\n",
    "ptrans = ptropo(htrans)\n",
    "Tstrat = Ttropo(htrans, 300)\n",
    "B = ptrans*np.e**(T0*rho0 *g *htrans/(p0*Tstrat))"
   ]
  },
  {
   "cell_type": "code",
   "execution_count": null,
   "metadata": {},
   "outputs": [],
   "source": [
    "f=figure(title=\"évolution de la pression\",x_axis_label=\"altitude (km)\",\n",
    "         y_axis_label=\"pression (bar)\", height=400, width=600)\n",
    "f.line(h1,ptropo(h1*1000)/10**5,color='darkcyan',line_width=4, legend_label=\"modèle adiabatique\")\n",
    "f.line(h1,pstrat(h1*1000)/10**5,color='darkorange',line_width=4, legend_label=\"modèle isotherme\")\n",
    "\n",
    "show(f)"
   ]
  },
  {
   "cell_type": "markdown",
   "metadata": {},
   "source": [
    "### transition adiabatique -> isotherme à htrans"
   ]
  },
  {
   "cell_type": "code",
   "execution_count": null,
   "metadata": {},
   "outputs": [],
   "source": [
    "T0=300\n",
    "htrans = 8000\n",
    "ptrans = ptropo(htrans)\n",
    "Tstrat = Ttropo(htrans, T0)\n",
    "B = ptrans*np.e**(T0*rho0 *g *htrans/(p0*Tstrat))\n",
    "\n",
    "h2 = np.array([h1i for h1i in h1 if h1i <= htrans/1000])\n",
    "h3 = np.array([h1i for h1i in h1 if h1i >= htrans/1000])\n",
    "\n",
    "f=figure(title=\"évolution de la pression avec l'altitude\",x_axis_label=\"altitude (km)\",\n",
    "         y_axis_label=\"pression (bar)\", height=400, width=600)\n",
    "f.line(h1,ptropo(h1*1000)/10**5,color='darkcyan',line_width=1, line_dash=[10, 5])\n",
    "f.line(h2,ptropo(h2*1000)/10**5,color='darkcyan',line_width=4, legend_label=\"modèle adiabatique\")\n",
    "f.line(h1,pstrat(h1*1000)/10**5,color='darkorange',line_width=1, line_dash=[10, 5])\n",
    "f.line(h3,pstrat(h3*1000)/10**5,color='darkorange',line_width=4, legend_label=\"modèle isotherme\")\n",
    "\n",
    "show(f)\n",
    "\n",
    "print('-')\n",
    "print('Altitude choisie pour la transition troposphère->stratospère h_trans = {:0.1f}[km]'.format(htrans/1000))\n",
    "print('Température au sol T0 = {:0.1f}[°C]'.format(T0-273.15))\n",
    "print('Température de la stratosphère Tstrat = {:0.1f}[°C]'.format(Tstrat-273.15))"
   ]
  },
  {
   "cell_type": "markdown",
   "metadata": {},
   "source": [
    "## Conclusion\n",
    "Le modèle présenté ici est très simplifié. Il permet d'expliquer la baisse de pression et de température avec l'altitude, observée lorsqu'on se promène en montagne. La température obtenue pour la stratosphère semble, elle un peu (!) basse. Il manque clairement des éléments au modèle. "
   ]
  },
  {
   "cell_type": "markdown",
   "metadata": {},
   "source": [
    "Notebook by Cécile Hébert (2023-2024).\n",
    "Except where otherwise noted, the content of this notebook is licensed under MIT licence."
   ]
  },
  {
   "cell_type": "code",
   "execution_count": null,
   "metadata": {},
   "outputs": [],
   "source": []
  }
 ],
 "metadata": {
  "hide_input": false,
  "kernelspec": {
   "display_name": "Python 3 (ipykernel)",
   "language": "python",
   "name": "python3"
  },
  "language_info": {
   "codemirror_mode": {
    "name": "ipython",
    "version": 3
   },
   "file_extension": ".py",
   "mimetype": "text/x-python",
   "name": "python",
   "nbconvert_exporter": "python",
   "pygments_lexer": "ipython3",
   "version": "3.11.5"
  }
 },
 "nbformat": 4,
 "nbformat_minor": 2
}
